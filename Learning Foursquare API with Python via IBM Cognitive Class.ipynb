{
 "cells": [
  {
   "cell_type": "markdown",
   "metadata": {},
   "source": [
    "# Learning Foursquare API with Python via IBM Cognitive Class"
   ]
  },
  {
   "cell_type": "markdown",
   "metadata": {},
   "source": [
    "# DISCOVERING THE VENUES AROUND \"Holiday Inn Express & Suites Dallas Park Central Northeast\""
   ]
  },
  {
   "cell_type": "markdown",
   "metadata": {},
   "source": [
    "## Importing necessary libraries"
   ]
  },
  {
   "cell_type": "code",
   "execution_count": 1,
   "metadata": {
    "scrolled": true
   },
   "outputs": [
    {
     "name": "stdout",
     "output_type": "stream",
     "text": [
      "Collecting package metadata: ...working... done\n",
      "Solving environment: ...working... done\n",
      "\n",
      "## Package Plan ##\n",
      "\n",
      "  environment location: C:\\Users\\AG\\Anaconda3\n",
      "\n",
      "  added / updated specs:\n",
      "    - geopy\n",
      "\n",
      "\n",
      "The following packages will be downloaded:\n",
      "\n",
      "    package                    |            build\n",
      "    ---------------------------|-----------------\n",
      "    geographiclib-1.49         |             py_0          32 KB  conda-forge\n",
      "    geopy-1.20.0               |             py_0          57 KB  conda-forge\n",
      "    ------------------------------------------------------------\n",
      "                                           Total:          90 KB\n",
      "\n",
      "The following NEW packages will be INSTALLED:\n",
      "\n",
      "  geographiclib      conda-forge/noarch::geographiclib-1.49-py_0\n",
      "  geopy              conda-forge/noarch::geopy-1.20.0-py_0\n",
      "\n",
      "\n",
      "\n",
      "Downloading and Extracting Packages\n",
      "\n",
      "geographiclib-1.49   | 32 KB     |            |   0% \n",
      "geographiclib-1.49   | 32 KB     | ###7       |  37% \n",
      "geographiclib-1.49   | 32 KB     | ########## | 100% \n",
      "\n",
      "geopy-1.20.0         | 57 KB     |            |   0% \n",
      "geopy-1.20.0         | 57 KB     | ########## | 100% \n",
      "Preparing transaction: ...working... done\n",
      "Verifying transaction: ...working... done\n",
      "Executing transaction: ...working... done\n",
      "Collecting package metadata: ...working... done\n",
      "Solving environment: ...working... done\n",
      "\n",
      "# All requested packages already installed.\n",
      "\n",
      "Folium installed\n",
      "Libraries imported.\n"
     ]
    }
   ],
   "source": [
    "import requests # library to handle requests\n",
    "import pandas as pd # library for data analsysis\n",
    "import numpy as np # library to handle data in a vectorized manner\n",
    "import random # library for random number generation\n",
    "\n",
    "!conda install -c conda-forge geopy --yes \n",
    "from geopy.geocoders import Nominatim # module to convert an address into latitude and longitude values\n",
    "\n",
    "# libraries for displaying images\n",
    "from IPython.display import Image \n",
    "from IPython.core.display import HTML \n",
    "    \n",
    "# tranforming json file into a pandas dataframe library\n",
    "from pandas.io.json import json_normalize\n",
    "\n",
    "!conda install -c conda-forge folium=0.5.0 --yes\n",
    "import folium # plotting library\n",
    "\n",
    "print('Folium installed')\n",
    "print('Libraries imported.')"
   ]
  },
  {
   "cell_type": "markdown",
   "metadata": {},
   "source": [
    "## Defining Foursquare Credentials and Version\n",
    "### Make sure that you have created a Foursquare developer account and have your credentials handy"
   ]
  },
  {
   "cell_type": "code",
   "execution_count": 2,
   "metadata": {},
   "outputs": [
    {
     "name": "stdout",
     "output_type": "stream",
     "text": [
      "Your credentails:\n",
      "CLIENT_ID: BFKMM4GRTIGNSMN31EI5UKVBB40DIW1EHDHDKAN3CY4C1PXH\n",
      "CLIENT_SECRET:R2T2D4VTD3Q0Q4V3EWSKAMJ0AZNZLCBAPB0ADERT2Y1OFXTA\n"
     ]
    }
   ],
   "source": [
    "CLIENT_ID = 'BFKMM4GRTIGNSMN31EI5UKVBB40DIW1EHDHDKAN3CY4C1PXH' # your Foursquare ID\n",
    "CLIENT_SECRET = 'R2T2D4VTD3Q0Q4V3EWSKAMJ0AZNZLCBAPB0ADERT2Y1OFXTA' # your Foursquare Secret\n",
    "VERSION = '20180604'\n",
    "LIMIT = 30\n",
    "print('Your credentails:')\n",
    "print('CLIENT_ID: ' + CLIENT_ID)\n",
    "print('CLIENT_SECRET:' + CLIENT_SECRET)"
   ]
  },
  {
   "cell_type": "markdown",
   "metadata": {},
   "source": [
    "##### Assuming that you are staying at the Holiday Inn Express & Suites Dallas Park Central Northeast. So let's start by converting the Holiday Inn Express' address to its latitude and longitude coordinates.\n",
    "##### In order to define an instance of the geocoder, we need to define a user_agent. We will name our agent foursquare_agent, as shown below."
   ]
  },
  {
   "cell_type": "code",
   "execution_count": 5,
   "metadata": {},
   "outputs": [
    {
     "name": "stdout",
     "output_type": "stream",
     "text": [
      "32.91586295 -96.7450133801598\n"
     ]
    }
   ],
   "source": [
    "address = '9089 Vantage Point Dr, Dallas, TX 75243'\n",
    "\n",
    "geolocator = Nominatim(user_agent=\"foursquare_agent\")\n",
    "location = geolocator.geocode(address)\n",
    "latitude = location.latitude\n",
    "longitude = location.longitude\n",
    "print(latitude, longitude)"
   ]
  },
  {
   "cell_type": "markdown",
   "metadata": {},
   "source": [
    "## 1. Search for a specific venue category\n",
    "> `https://api.foursquare.com/v2/venues/`**search**`?client_id=`**CLIENT_ID**`&client_secret=`**CLIENT_SECRET**`&ll=`**LATITUDE**`,`**LONGITUDE**`&v=`**VERSION**`&query=`**QUERY**`&radius=`**RADIUS**`&limit=`**LIMIT**"
   ]
  },
  {
   "cell_type": "markdown",
   "metadata": {},
   "source": [
    "#### Now, let's assume that it is lunch time, and you are craving Italian food. So, let's define a query to search for Italian food that is within 2000 metres from the Holiday Inn Express. "
   ]
  },
  {
   "cell_type": "code",
   "execution_count": 16,
   "metadata": {},
   "outputs": [
    {
     "name": "stdout",
     "output_type": "stream",
     "text": [
      "Italian .... OK!\n"
     ]
    }
   ],
   "source": [
    "search_query = 'Italian'\n",
    "radius = 2000\n",
    "print(search_query + ' .... OK!')"
   ]
  },
  {
   "cell_type": "markdown",
   "metadata": {},
   "source": [
    "#### Defining the corresponding URL"
   ]
  },
  {
   "cell_type": "code",
   "execution_count": 17,
   "metadata": {},
   "outputs": [
    {
     "data": {
      "text/plain": [
       "'https://api.foursquare.com/v2/venues/search?client_id=BFKMM4GRTIGNSMN31EI5UKVBB40DIW1EHDHDKAN3CY4C1PXH&client_secret=R2T2D4VTD3Q0Q4V3EWSKAMJ0AZNZLCBAPB0ADERT2Y1OFXTA&ll=32.91586295,-96.7450133801598&v=20180604&query=Italian&radius=2000&limit=30'"
      ]
     },
     "execution_count": 17,
     "metadata": {},
     "output_type": "execute_result"
    }
   ],
   "source": [
    "url = 'https://api.foursquare.com/v2/venues/search?client_id={}&client_secret={}&ll={},{}&v={}&query={}&radius={}&limit={}'.format(CLIENT_ID, CLIENT_SECRET, latitude, longitude, VERSION, search_query, radius, LIMIT)\n",
    "url"
   ]
  },
  {
   "cell_type": "markdown",
   "metadata": {},
   "source": [
    "#### Send the GET Request and examine the results"
   ]
  },
  {
   "cell_type": "code",
   "execution_count": 18,
   "metadata": {},
   "outputs": [
    {
     "data": {
      "text/plain": [
       "{'meta': {'code': 200, 'requestId': '5d02a0104434b959b6127039'},\n",
       " 'response': {'venues': [{'id': '4b5a67a5f964a52005c328e3',\n",
       "    'name': 'MoMo Italian Kitchen',\n",
       "    'location': {'address': '8989 Forest Ln Ste 130',\n",
       "     'crossStreet': 'at Greenville Ave.',\n",
       "     'lat': 32.9095511829934,\n",
       "     'lng': -96.74988979849148,\n",
       "     'labeledLatLngs': [{'label': 'display',\n",
       "       'lat': 32.9095511829934,\n",
       "       'lng': -96.74988979849148}],\n",
       "     'distance': 837,\n",
       "     'postalCode': '75243',\n",
       "     'cc': 'US',\n",
       "     'city': 'Dallas',\n",
       "     'state': 'TX',\n",
       "     'country': 'United States',\n",
       "     'formattedAddress': ['8989 Forest Ln Ste 130 (at Greenville Ave.)',\n",
       "      'Dallas, TX 75243',\n",
       "      'United States']},\n",
       "    'categories': [{'id': '4bf58dd8d48988d110941735',\n",
       "      'name': 'Italian Restaurant',\n",
       "      'pluralName': 'Italian Restaurants',\n",
       "      'shortName': 'Italian',\n",
       "      'icon': {'prefix': 'https://ss3.4sqi.net/img/categories_v2/food/italian_',\n",
       "       'suffix': '.png'},\n",
       "      'primary': True}],\n",
       "    'referralId': 'v-1560453136',\n",
       "    'hasPerk': False},\n",
       "   {'id': '52a393ab498e76d7324995f8',\n",
       "    'name': \"Dante's Italian Eatery\",\n",
       "    'location': {'address': '12101 Greenville Ave',\n",
       "     'lat': 32.91224938835174,\n",
       "     'lng': -96.74618032096771,\n",
       "     'labeledLatLngs': [{'label': 'display',\n",
       "       'lat': 32.91224938835174,\n",
       "       'lng': -96.74618032096771}],\n",
       "     'distance': 416,\n",
       "     'postalCode': '75243',\n",
       "     'cc': 'US',\n",
       "     'city': 'Dallas',\n",
       "     'state': 'TX',\n",
       "     'country': 'United States',\n",
       "     'formattedAddress': ['12101 Greenville Ave',\n",
       "      'Dallas, TX 75243',\n",
       "      'United States']},\n",
       "    'categories': [{'id': '4bf58dd8d48988d1ca941735',\n",
       "      'name': 'Pizza Place',\n",
       "      'pluralName': 'Pizza Places',\n",
       "      'shortName': 'Pizza',\n",
       "      'icon': {'prefix': 'https://ss3.4sqi.net/img/categories_v2/food/pizza_',\n",
       "       'suffix': '.png'},\n",
       "      'primary': True}],\n",
       "    'delivery': {'id': '306200',\n",
       "     'url': 'https://www.grubhub.com/restaurant/dantes-italian-eatery-12101-greenville-ave-dallas/306200?affiliate=1131&utm_source=foursquare-affiliate-network&utm_medium=affiliate&utm_campaign=1131&utm_content=306200',\n",
       "     'provider': {'name': 'grubhub',\n",
       "      'icon': {'prefix': 'https://fastly.4sqi.net/img/general/cap/',\n",
       "       'sizes': [40, 50],\n",
       "       'name': '/delivery_provider_grubhub_20180129.png'}}},\n",
       "    'referralId': 'v-1560453136',\n",
       "    'hasPerk': False},\n",
       "   {'id': '4c0823937c9ad13a88a42c1e',\n",
       "    'name': 'Olive Garden',\n",
       "    'location': {'address': '9079 Vantage Point Dr',\n",
       "     'crossStreet': 'at Greenville Ave.',\n",
       "     'lat': 32.91675186827861,\n",
       "     'lng': -96.74508288372964,\n",
       "     'labeledLatLngs': [{'label': 'display',\n",
       "       'lat': 32.91675186827861,\n",
       "       'lng': -96.74508288372964}],\n",
       "     'distance': 99,\n",
       "     'postalCode': '75243',\n",
       "     'cc': 'US',\n",
       "     'city': 'Dallas',\n",
       "     'state': 'TX',\n",
       "     'country': 'United States',\n",
       "     'formattedAddress': ['9079 Vantage Point Dr (at Greenville Ave.)',\n",
       "      'Dallas, TX 75243',\n",
       "      'United States']},\n",
       "    'categories': [{'id': '4bf58dd8d48988d110941735',\n",
       "      'name': 'Italian Restaurant',\n",
       "      'pluralName': 'Italian Restaurants',\n",
       "      'shortName': 'Italian',\n",
       "      'icon': {'prefix': 'https://ss3.4sqi.net/img/categories_v2/food/italian_',\n",
       "       'suffix': '.png'},\n",
       "      'primary': True}],\n",
       "    'referralId': 'v-1560453136',\n",
       "    'hasPerk': False}]}}"
      ]
     },
     "execution_count": 18,
     "metadata": {},
     "output_type": "execute_result"
    }
   ],
   "source": [
    "results = requests.get(url).json()\n",
    "results"
   ]
  },
  {
   "cell_type": "markdown",
   "metadata": {},
   "source": [
    "#### Get relevant part of JSON and transform it into a *pandas* dataframe"
   ]
  },
  {
   "cell_type": "code",
   "execution_count": 19,
   "metadata": {},
   "outputs": [
    {
     "data": {
      "text/html": [
       "<div>\n",
       "<style scoped>\n",
       "    .dataframe tbody tr th:only-of-type {\n",
       "        vertical-align: middle;\n",
       "    }\n",
       "\n",
       "    .dataframe tbody tr th {\n",
       "        vertical-align: top;\n",
       "    }\n",
       "\n",
       "    .dataframe thead th {\n",
       "        text-align: right;\n",
       "    }\n",
       "</style>\n",
       "<table border=\"1\" class=\"dataframe\">\n",
       "  <thead>\n",
       "    <tr style=\"text-align: right;\">\n",
       "      <th></th>\n",
       "      <th>categories</th>\n",
       "      <th>delivery.id</th>\n",
       "      <th>delivery.provider.icon.name</th>\n",
       "      <th>delivery.provider.icon.prefix</th>\n",
       "      <th>delivery.provider.icon.sizes</th>\n",
       "      <th>delivery.provider.name</th>\n",
       "      <th>delivery.url</th>\n",
       "      <th>hasPerk</th>\n",
       "      <th>id</th>\n",
       "      <th>location.address</th>\n",
       "      <th>...</th>\n",
       "      <th>location.crossStreet</th>\n",
       "      <th>location.distance</th>\n",
       "      <th>location.formattedAddress</th>\n",
       "      <th>location.labeledLatLngs</th>\n",
       "      <th>location.lat</th>\n",
       "      <th>location.lng</th>\n",
       "      <th>location.postalCode</th>\n",
       "      <th>location.state</th>\n",
       "      <th>name</th>\n",
       "      <th>referralId</th>\n",
       "    </tr>\n",
       "  </thead>\n",
       "  <tbody>\n",
       "    <tr>\n",
       "      <th>0</th>\n",
       "      <td>[{'id': '4bf58dd8d48988d110941735', 'name': 'I...</td>\n",
       "      <td>NaN</td>\n",
       "      <td>NaN</td>\n",
       "      <td>NaN</td>\n",
       "      <td>NaN</td>\n",
       "      <td>NaN</td>\n",
       "      <td>NaN</td>\n",
       "      <td>False</td>\n",
       "      <td>4b5a67a5f964a52005c328e3</td>\n",
       "      <td>8989 Forest Ln Ste 130</td>\n",
       "      <td>...</td>\n",
       "      <td>at Greenville Ave.</td>\n",
       "      <td>837</td>\n",
       "      <td>[8989 Forest Ln Ste 130 (at Greenville Ave.), ...</td>\n",
       "      <td>[{'label': 'display', 'lat': 32.9095511829934,...</td>\n",
       "      <td>32.909551</td>\n",
       "      <td>-96.749890</td>\n",
       "      <td>75243</td>\n",
       "      <td>TX</td>\n",
       "      <td>MoMo Italian Kitchen</td>\n",
       "      <td>v-1560453136</td>\n",
       "    </tr>\n",
       "    <tr>\n",
       "      <th>1</th>\n",
       "      <td>[{'id': '4bf58dd8d48988d1ca941735', 'name': 'P...</td>\n",
       "      <td>306200</td>\n",
       "      <td>/delivery_provider_grubhub_20180129.png</td>\n",
       "      <td>https://fastly.4sqi.net/img/general/cap/</td>\n",
       "      <td>[40, 50]</td>\n",
       "      <td>grubhub</td>\n",
       "      <td>https://www.grubhub.com/restaurant/dantes-ital...</td>\n",
       "      <td>False</td>\n",
       "      <td>52a393ab498e76d7324995f8</td>\n",
       "      <td>12101 Greenville Ave</td>\n",
       "      <td>...</td>\n",
       "      <td>NaN</td>\n",
       "      <td>416</td>\n",
       "      <td>[12101 Greenville Ave, Dallas, TX 75243, Unite...</td>\n",
       "      <td>[{'label': 'display', 'lat': 32.91224938835174...</td>\n",
       "      <td>32.912249</td>\n",
       "      <td>-96.746180</td>\n",
       "      <td>75243</td>\n",
       "      <td>TX</td>\n",
       "      <td>Dante's Italian Eatery</td>\n",
       "      <td>v-1560453136</td>\n",
       "    </tr>\n",
       "    <tr>\n",
       "      <th>2</th>\n",
       "      <td>[{'id': '4bf58dd8d48988d110941735', 'name': 'I...</td>\n",
       "      <td>NaN</td>\n",
       "      <td>NaN</td>\n",
       "      <td>NaN</td>\n",
       "      <td>NaN</td>\n",
       "      <td>NaN</td>\n",
       "      <td>NaN</td>\n",
       "      <td>False</td>\n",
       "      <td>4c0823937c9ad13a88a42c1e</td>\n",
       "      <td>9079 Vantage Point Dr</td>\n",
       "      <td>...</td>\n",
       "      <td>at Greenville Ave.</td>\n",
       "      <td>99</td>\n",
       "      <td>[9079 Vantage Point Dr (at Greenville Ave.), D...</td>\n",
       "      <td>[{'label': 'display', 'lat': 32.91675186827861...</td>\n",
       "      <td>32.916752</td>\n",
       "      <td>-96.745083</td>\n",
       "      <td>75243</td>\n",
       "      <td>TX</td>\n",
       "      <td>Olive Garden</td>\n",
       "      <td>v-1560453136</td>\n",
       "    </tr>\n",
       "  </tbody>\n",
       "</table>\n",
       "<p>3 rows × 23 columns</p>\n",
       "</div>"
      ],
      "text/plain": [
       "                                          categories delivery.id  \\\n",
       "0  [{'id': '4bf58dd8d48988d110941735', 'name': 'I...         NaN   \n",
       "1  [{'id': '4bf58dd8d48988d1ca941735', 'name': 'P...      306200   \n",
       "2  [{'id': '4bf58dd8d48988d110941735', 'name': 'I...         NaN   \n",
       "\n",
       "               delivery.provider.icon.name  \\\n",
       "0                                      NaN   \n",
       "1  /delivery_provider_grubhub_20180129.png   \n",
       "2                                      NaN   \n",
       "\n",
       "              delivery.provider.icon.prefix delivery.provider.icon.sizes  \\\n",
       "0                                       NaN                          NaN   \n",
       "1  https://fastly.4sqi.net/img/general/cap/                     [40, 50]   \n",
       "2                                       NaN                          NaN   \n",
       "\n",
       "  delivery.provider.name                                       delivery.url  \\\n",
       "0                    NaN                                                NaN   \n",
       "1                grubhub  https://www.grubhub.com/restaurant/dantes-ital...   \n",
       "2                    NaN                                                NaN   \n",
       "\n",
       "   hasPerk                        id        location.address      ...       \\\n",
       "0    False  4b5a67a5f964a52005c328e3  8989 Forest Ln Ste 130      ...        \n",
       "1    False  52a393ab498e76d7324995f8    12101 Greenville Ave      ...        \n",
       "2    False  4c0823937c9ad13a88a42c1e   9079 Vantage Point Dr      ...        \n",
       "\n",
       "  location.crossStreet location.distance  \\\n",
       "0   at Greenville Ave.               837   \n",
       "1                  NaN               416   \n",
       "2   at Greenville Ave.                99   \n",
       "\n",
       "                           location.formattedAddress  \\\n",
       "0  [8989 Forest Ln Ste 130 (at Greenville Ave.), ...   \n",
       "1  [12101 Greenville Ave, Dallas, TX 75243, Unite...   \n",
       "2  [9079 Vantage Point Dr (at Greenville Ave.), D...   \n",
       "\n",
       "                             location.labeledLatLngs  location.lat  \\\n",
       "0  [{'label': 'display', 'lat': 32.9095511829934,...     32.909551   \n",
       "1  [{'label': 'display', 'lat': 32.91224938835174...     32.912249   \n",
       "2  [{'label': 'display', 'lat': 32.91675186827861...     32.916752   \n",
       "\n",
       "  location.lng location.postalCode  location.state                    name  \\\n",
       "0   -96.749890               75243              TX    MoMo Italian Kitchen   \n",
       "1   -96.746180               75243              TX  Dante's Italian Eatery   \n",
       "2   -96.745083               75243              TX            Olive Garden   \n",
       "\n",
       "     referralId  \n",
       "0  v-1560453136  \n",
       "1  v-1560453136  \n",
       "2  v-1560453136  \n",
       "\n",
       "[3 rows x 23 columns]"
      ]
     },
     "execution_count": 19,
     "metadata": {},
     "output_type": "execute_result"
    }
   ],
   "source": [
    "# assign relevant part of JSON to venues\n",
    "venues = results['response']['venues']\n",
    "\n",
    "# tranform venues into a dataframe\n",
    "dataframe = json_normalize(venues)\n",
    "dataframe.head()"
   ]
  },
  {
   "cell_type": "markdown",
   "metadata": {},
   "source": [
    "#### Define information of interest and filter dataframe"
   ]
  },
  {
   "cell_type": "code",
   "execution_count": 20,
   "metadata": {},
   "outputs": [
    {
     "data": {
      "text/html": [
       "<div>\n",
       "<style scoped>\n",
       "    .dataframe tbody tr th:only-of-type {\n",
       "        vertical-align: middle;\n",
       "    }\n",
       "\n",
       "    .dataframe tbody tr th {\n",
       "        vertical-align: top;\n",
       "    }\n",
       "\n",
       "    .dataframe thead th {\n",
       "        text-align: right;\n",
       "    }\n",
       "</style>\n",
       "<table border=\"1\" class=\"dataframe\">\n",
       "  <thead>\n",
       "    <tr style=\"text-align: right;\">\n",
       "      <th></th>\n",
       "      <th>name</th>\n",
       "      <th>categories</th>\n",
       "      <th>address</th>\n",
       "      <th>cc</th>\n",
       "      <th>city</th>\n",
       "      <th>country</th>\n",
       "      <th>crossStreet</th>\n",
       "      <th>distance</th>\n",
       "      <th>formattedAddress</th>\n",
       "      <th>labeledLatLngs</th>\n",
       "      <th>lat</th>\n",
       "      <th>lng</th>\n",
       "      <th>postalCode</th>\n",
       "      <th>state</th>\n",
       "      <th>id</th>\n",
       "    </tr>\n",
       "  </thead>\n",
       "  <tbody>\n",
       "    <tr>\n",
       "      <th>0</th>\n",
       "      <td>MoMo Italian Kitchen</td>\n",
       "      <td>Italian Restaurant</td>\n",
       "      <td>8989 Forest Ln Ste 130</td>\n",
       "      <td>US</td>\n",
       "      <td>Dallas</td>\n",
       "      <td>United States</td>\n",
       "      <td>at Greenville Ave.</td>\n",
       "      <td>837</td>\n",
       "      <td>[8989 Forest Ln Ste 130 (at Greenville Ave.), ...</td>\n",
       "      <td>[{'label': 'display', 'lat': 32.9095511829934,...</td>\n",
       "      <td>32.909551</td>\n",
       "      <td>-96.749890</td>\n",
       "      <td>75243</td>\n",
       "      <td>TX</td>\n",
       "      <td>4b5a67a5f964a52005c328e3</td>\n",
       "    </tr>\n",
       "    <tr>\n",
       "      <th>1</th>\n",
       "      <td>Dante's Italian Eatery</td>\n",
       "      <td>Pizza Place</td>\n",
       "      <td>12101 Greenville Ave</td>\n",
       "      <td>US</td>\n",
       "      <td>Dallas</td>\n",
       "      <td>United States</td>\n",
       "      <td>NaN</td>\n",
       "      <td>416</td>\n",
       "      <td>[12101 Greenville Ave, Dallas, TX 75243, Unite...</td>\n",
       "      <td>[{'label': 'display', 'lat': 32.91224938835174...</td>\n",
       "      <td>32.912249</td>\n",
       "      <td>-96.746180</td>\n",
       "      <td>75243</td>\n",
       "      <td>TX</td>\n",
       "      <td>52a393ab498e76d7324995f8</td>\n",
       "    </tr>\n",
       "    <tr>\n",
       "      <th>2</th>\n",
       "      <td>Olive Garden</td>\n",
       "      <td>Italian Restaurant</td>\n",
       "      <td>9079 Vantage Point Dr</td>\n",
       "      <td>US</td>\n",
       "      <td>Dallas</td>\n",
       "      <td>United States</td>\n",
       "      <td>at Greenville Ave.</td>\n",
       "      <td>99</td>\n",
       "      <td>[9079 Vantage Point Dr (at Greenville Ave.), D...</td>\n",
       "      <td>[{'label': 'display', 'lat': 32.91675186827861...</td>\n",
       "      <td>32.916752</td>\n",
       "      <td>-96.745083</td>\n",
       "      <td>75243</td>\n",
       "      <td>TX</td>\n",
       "      <td>4c0823937c9ad13a88a42c1e</td>\n",
       "    </tr>\n",
       "  </tbody>\n",
       "</table>\n",
       "</div>"
      ],
      "text/plain": [
       "                     name          categories                 address  cc  \\\n",
       "0    MoMo Italian Kitchen  Italian Restaurant  8989 Forest Ln Ste 130  US   \n",
       "1  Dante's Italian Eatery         Pizza Place    12101 Greenville Ave  US   \n",
       "2            Olive Garden  Italian Restaurant   9079 Vantage Point Dr  US   \n",
       "\n",
       "     city        country         crossStreet  distance  \\\n",
       "0  Dallas  United States  at Greenville Ave.       837   \n",
       "1  Dallas  United States                 NaN       416   \n",
       "2  Dallas  United States  at Greenville Ave.        99   \n",
       "\n",
       "                                    formattedAddress  \\\n",
       "0  [8989 Forest Ln Ste 130 (at Greenville Ave.), ...   \n",
       "1  [12101 Greenville Ave, Dallas, TX 75243, Unite...   \n",
       "2  [9079 Vantage Point Dr (at Greenville Ave.), D...   \n",
       "\n",
       "                                      labeledLatLngs        lat        lng  \\\n",
       "0  [{'label': 'display', 'lat': 32.9095511829934,...  32.909551 -96.749890   \n",
       "1  [{'label': 'display', 'lat': 32.91224938835174...  32.912249 -96.746180   \n",
       "2  [{'label': 'display', 'lat': 32.91675186827861...  32.916752 -96.745083   \n",
       "\n",
       "  postalCode state                        id  \n",
       "0      75243    TX  4b5a67a5f964a52005c328e3  \n",
       "1      75243    TX  52a393ab498e76d7324995f8  \n",
       "2      75243    TX  4c0823937c9ad13a88a42c1e  "
      ]
     },
     "execution_count": 20,
     "metadata": {},
     "output_type": "execute_result"
    }
   ],
   "source": [
    "# keep only columns that include venue name, and anything that is associated with location\n",
    "filtered_columns = ['name', 'categories'] + [col for col in dataframe.columns if col.startswith('location.')] + ['id']\n",
    "dataframe_filtered = dataframe.loc[:, filtered_columns]\n",
    "\n",
    "# function that extracts the category of the venue\n",
    "def get_category_type(row):\n",
    "    try:\n",
    "        categories_list = row['categories']\n",
    "    except:\n",
    "        categories_list = row['venue.categories']\n",
    "        \n",
    "    if len(categories_list) == 0:\n",
    "        return None\n",
    "    else:\n",
    "        return categories_list[0]['name']\n",
    "\n",
    "# filter the category for each row\n",
    "dataframe_filtered['categories'] = dataframe_filtered.apply(get_category_type, axis=1)\n",
    "\n",
    "# clean column names by keeping only last term\n",
    "dataframe_filtered.columns = [column.split('.')[-1] for column in dataframe_filtered.columns]\n",
    "\n",
    "dataframe_filtered"
   ]
  },
  {
   "cell_type": "markdown",
   "metadata": {},
   "source": [
    "#### Let's visualize the Italian restaurants that are nearby"
   ]
  },
  {
   "cell_type": "code",
   "execution_count": 21,
   "metadata": {},
   "outputs": [
    {
     "data": {
      "text/plain": [
       "0      MoMo Italian Kitchen\n",
       "1    Dante's Italian Eatery\n",
       "2              Olive Garden\n",
       "Name: name, dtype: object"
      ]
     },
     "execution_count": 21,
     "metadata": {},
     "output_type": "execute_result"
    }
   ],
   "source": [
    "dataframe_filtered.name"
   ]
  },
  {
   "cell_type": "code",
   "execution_count": 22,
   "metadata": {},
   "outputs": [
    {
     "data": {
      "text/html": [
       "<div style=\"width:100%;\"><div style=\"position:relative;width:100%;height:0;padding-bottom:60%;\"><iframe src=\"data:text/html;charset=utf-8;base64,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\" style=\"position:absolute;width:100%;height:100%;left:0;top:0;border:none !important;\" allowfullscreen webkitallowfullscreen mozallowfullscreen></iframe></div></div>"
      ],
      "text/plain": [
       "<folium.folium.Map at 0x1579bec5d68>"
      ]
     },
     "execution_count": 22,
     "metadata": {},
     "output_type": "execute_result"
    }
   ],
   "source": [
    "venues_map = folium.Map(location=[latitude, longitude], zoom_start=13) # generate map centred around the Conrad Hotel\n",
    "\n",
    "# add a red circle marker to represent the Conrad Hotel\n",
    "folium.features.CircleMarker(\n",
    "    [latitude, longitude],\n",
    "    radius=10,\n",
    "    color='red',\n",
    "    popup='Conrad Hotel',\n",
    "    fill = True,\n",
    "    fill_color = 'red',\n",
    "    fill_opacity = 0.6\n",
    ").add_to(venues_map)\n",
    "\n",
    "# add the Italian restaurants as blue circle markers\n",
    "for lat, lng, label in zip(dataframe_filtered.lat, dataframe_filtered.lng, dataframe_filtered.categories):\n",
    "    folium.features.CircleMarker(\n",
    "        [lat, lng],\n",
    "        radius=5,\n",
    "        color='blue',\n",
    "        popup=label,\n",
    "        fill = True,\n",
    "        fill_color='blue',\n",
    "        fill_opacity=0.6\n",
    "    ).add_to(venues_map)\n",
    "\n",
    "# display map\n",
    "venues_map"
   ]
  },
  {
   "cell_type": "markdown",
   "metadata": {},
   "source": [
    "## 2. Explore a Given Venue\n",
    "> `https://api.foursquare.com/v2/venues/`**VENUE_ID**`?client_id=`**CLIENT_ID**`&client_secret=`**CLIENT_SECRET**`&v=`**VERSION**"
   ]
  },
  {
   "cell_type": "markdown",
   "metadata": {},
   "source": [
    "### A. Let's explore the closest Italian restaurant -- _Olive Garden_"
   ]
  },
  {
   "cell_type": "code",
   "execution_count": 24,
   "metadata": {
    "scrolled": true
   },
   "outputs": [
    {
     "data": {
      "text/plain": [
       "'https://api.foursquare.com/v2/venues/4c0823937c9ad13a88a42c1e?client_id=BFKMM4GRTIGNSMN31EI5UKVBB40DIW1EHDHDKAN3CY4C1PXH&client_secret=R2T2D4VTD3Q0Q4V3EWSKAMJ0AZNZLCBAPB0ADERT2Y1OFXTA&v=20180604'"
      ]
     },
     "execution_count": 24,
     "metadata": {},
     "output_type": "execute_result"
    }
   ],
   "source": [
    "venue_id = '4c0823937c9ad13a88a42c1e' # ID of Olive Garden\n",
    "url = 'https://api.foursquare.com/v2/venues/{}?client_id={}&client_secret={}&v={}'.format(venue_id, CLIENT_ID, CLIENT_SECRET, VERSION)\n",
    "url"
   ]
  },
  {
   "cell_type": "markdown",
   "metadata": {},
   "source": [
    "#### Send GET request for result"
   ]
  },
  {
   "cell_type": "code",
   "execution_count": 25,
   "metadata": {},
   "outputs": [
    {
     "name": "stdout",
     "output_type": "stream",
     "text": [
      "dict_keys(['id', 'name', 'contact', 'location', 'canonicalUrl', 'categories', 'verified', 'stats', 'url', 'price', 'hasMenu', 'likes', 'dislike', 'ok', 'rating', 'ratingColor', 'ratingSignals', 'menu', 'allowMenuUrlEdit', 'beenHere', 'specials', 'photos', 'reasons', 'description', 'storeId', 'page', 'hereNow', 'createdAt', 'tips', 'shortUrl', 'timeZone', 'listed', 'hours', 'popular', 'pageUpdates', 'inbox', 'attributes', 'bestPhoto', 'colors'])\n"
     ]
    },
    {
     "data": {
      "text/plain": [
       "{'id': '4c0823937c9ad13a88a42c1e',\n",
       " 'name': 'Olive Garden',\n",
       " 'contact': {'phone': '9722343292',\n",
       "  'formattedPhone': '(972) 234-3292',\n",
       "  'twitter': 'olivegarden'},\n",
       " 'location': {'address': '9079 Vantage Point Dr',\n",
       "  'crossStreet': 'at Greenville Ave.',\n",
       "  'lat': 32.91675186827861,\n",
       "  'lng': -96.74508288372964,\n",
       "  'labeledLatLngs': [{'label': 'display',\n",
       "    'lat': 32.91675186827861,\n",
       "    'lng': -96.74508288372964}],\n",
       "  'postalCode': '75243',\n",
       "  'cc': 'US',\n",
       "  'city': 'Dallas',\n",
       "  'state': 'TX',\n",
       "  'country': 'United States',\n",
       "  'formattedAddress': ['9079 Vantage Point Dr (at Greenville Ave.)',\n",
       "   'Dallas, TX 75243',\n",
       "   'United States']},\n",
       " 'canonicalUrl': 'https://foursquare.com/v/olive-garden/4c0823937c9ad13a88a42c1e',\n",
       " 'categories': [{'id': '4bf58dd8d48988d110941735',\n",
       "   'name': 'Italian Restaurant',\n",
       "   'pluralName': 'Italian Restaurants',\n",
       "   'shortName': 'Italian',\n",
       "   'icon': {'prefix': 'https://ss3.4sqi.net/img/categories_v2/food/italian_',\n",
       "    'suffix': '.png'},\n",
       "   'primary': True}],\n",
       " 'verified': True,\n",
       " 'stats': {'tipCount': 29},\n",
       " 'url': 'http://www.olivegarden.com/italian-restaurant/tx/dallas/1257/',\n",
       " 'price': {'tier': 2, 'message': 'Moderate', 'currency': '$'},\n",
       " 'hasMenu': True,\n",
       " 'likes': {'count': 97,\n",
       "  'groups': [{'type': 'others', 'count': 97, 'items': []}],\n",
       "  'summary': '97 Likes'},\n",
       " 'dislike': False,\n",
       " 'ok': False,\n",
       " 'rating': 8.2,\n",
       " 'ratingColor': '73CF42',\n",
       " 'ratingSignals': 134,\n",
       " 'menu': {'type': 'Menu',\n",
       "  'label': 'Menu',\n",
       "  'anchor': 'View Menu',\n",
       "  'url': 'https://foursquare.com/v/olive-garden/4c0823937c9ad13a88a42c1e/menu',\n",
       "  'mobileUrl': 'https://foursquare.com/v/4c0823937c9ad13a88a42c1e/device_menu'},\n",
       " 'allowMenuUrlEdit': True,\n",
       " 'beenHere': {'count': 0,\n",
       "  'unconfirmedCount': 0,\n",
       "  'marked': False,\n",
       "  'lastCheckinExpiredAt': 0},\n",
       " 'specials': {'count': 0, 'items': []},\n",
       " 'photos': {'count': 64,\n",
       "  'groups': [{'type': 'checkin',\n",
       "    'name': \"Friends' check-in photos\",\n",
       "    'count': 0,\n",
       "    'items': []},\n",
       "   {'type': 'venue',\n",
       "    'name': 'Venue photos',\n",
       "    'count': 64,\n",
       "    'items': [{'id': '4f3707d7e4b0a1f1967801e7',\n",
       "      'createdAt': 1329006551,\n",
       "      'source': {'name': 'Foursquare for iOS',\n",
       "       'url': 'https://foursquare.com/download/#/iphone'},\n",
       "      'prefix': 'https://fastly.4sqi.net/img/general/',\n",
       "      'suffix': '/2IvyrastPE0i31k6VV1p9ZteTJLUknqkWQMbL0GTTHA.jpg',\n",
       "      'width': 537,\n",
       "      'height': 720,\n",
       "      'user': {'id': '1945811',\n",
       "       'firstName': 'Jennifer',\n",
       "       'lastName': 'T',\n",
       "       'gender': 'female',\n",
       "       'photo': {'prefix': 'https://fastly.4sqi.net/img/user/',\n",
       "        'suffix': '/OONDT00ANWNNSJAU.jpg'}},\n",
       "      'visibility': 'public'}]}],\n",
       "  'summary': '0 photos'},\n",
       " 'reasons': {'count': 1,\n",
       "  'items': [{'summary': 'Lots of people like this place',\n",
       "    'type': 'general',\n",
       "    'reasonName': 'rawLikesReason'}]},\n",
       " 'description': 'Olive Garden offers a variety of delicious Italian specialties for lunch, dinner or take out. Enjoy our freshly baked garlic breadsticks and your choice of homemade soup or salad with any entree.',\n",
       " 'storeId': '1257',\n",
       " 'page': {'pageInfo': {'description': 'At Olive Garden, you’ll enjoy a delicious dining experience every time.  Explore our menu of appetizers, entrées, desserts, wines and specialty beverages.',\n",
       "   'banner': 'https://is1.4sqi.net/userpix/O4SN1SQJQOXT5FVT.png',\n",
       "   'links': {'count': 1,\n",
       "    'items': [{'url': 'http://www.olivegarden.com/italian-restaurant/fl/orlando/1002/?cmpid=og_ll_google&cmpid=og_ll_%20foursquare'}]}},\n",
       "  'user': {'id': '32445549',\n",
       "   'firstName': 'Olive Garden',\n",
       "   'gender': 'none',\n",
       "   'photo': {'prefix': 'https://fastly.4sqi.net/img/user/',\n",
       "    'suffix': '/32445549-4TRV3JEWNDZKGLER.png'},\n",
       "   'type': 'chain',\n",
       "   'tips': {'count': 13},\n",
       "   'lists': {'groups': [{'type': 'created', 'count': 2, 'items': []}]},\n",
       "   'homeCity': 'Orlando, FL',\n",
       "   'bio': '',\n",
       "   'contact': {'twitter': 'olivegarden'}}},\n",
       " 'hereNow': {'count': 0, 'summary': 'Nobody here', 'groups': []},\n",
       " 'createdAt': 1275601811,\n",
       " 'tips': {'count': 29,\n",
       "  'groups': [{'type': 'others',\n",
       "    'name': 'All tips',\n",
       "    'count': 29,\n",
       "    'items': [{'id': '52f1c550498e87390a304412',\n",
       "      'createdAt': 1391576400,\n",
       "      'text': 'On the Greek island of Crete, I once bet a man that he couldn’t fit 50 olives in his mouth. He ended up giving me his motorcycle and I ended up giving him the Heimlich.',\n",
       "      'type': 'user',\n",
       "      'canonicalUrl': 'https://foursquare.com/item/52f1c550498e87390a304412',\n",
       "      'lang': 'en',\n",
       "      'likes': {'count': 41,\n",
       "       'groups': [{'type': 'others', 'count': 41, 'items': []}],\n",
       "       'summary': '41 likes'},\n",
       "      'logView': True,\n",
       "      'agreeCount': 41,\n",
       "      'disagreeCount': 0,\n",
       "      'todo': {'count': 1},\n",
       "      'user': {'id': '82505562',\n",
       "       'firstName': 'The Most Interesting Man in the World',\n",
       "       'gender': 'none',\n",
       "       'photo': {'prefix': 'https://fastly.4sqi.net/img/user/',\n",
       "        'suffix': '/82505562-GOFQHX5S4J5IX5FZ.jpg'},\n",
       "       'type': 'page'}}]}]},\n",
       " 'shortUrl': 'http://4sq.com/ciVIvD',\n",
       " 'timeZone': 'America/Chicago',\n",
       " 'listed': {'count': 5,\n",
       "  'groups': [{'type': 'others',\n",
       "    'name': 'Lists from other people',\n",
       "    'count': 5,\n",
       "    'items': [{'id': '4fd8c309e4b0bb2199cff60f',\n",
       "      'name': \"Guide to Dallas's best spots\",\n",
       "      'description': '',\n",
       "      'type': 'others',\n",
       "      'user': {'id': '25745044',\n",
       "       'firstName': 'Malissa',\n",
       "       'lastName': 'F',\n",
       "       'gender': 'female',\n",
       "       'photo': {'prefix': 'https://fastly.4sqi.net/img/user/',\n",
       "        'suffix': '/4WF1YGKCPUTMUQ4W.jpg'}},\n",
       "      'editable': False,\n",
       "      'public': True,\n",
       "      'collaborative': False,\n",
       "      'url': '/widdajane/list/guide-to-dallass-best-spots-1',\n",
       "      'canonicalUrl': 'https://foursquare.com/widdajane/list/guide-to-dallass-best-spots-1',\n",
       "      'createdAt': 1339605769,\n",
       "      'updatedAt': 1340324272,\n",
       "      'photo': {'id': '4fd8c1f4e4b0ac05ac56afa5',\n",
       "       'createdAt': 1339605492,\n",
       "       'prefix': 'https://fastly.4sqi.net/img/general/',\n",
       "       'suffix': '/1NeAfxc7xGfadZ3fluQxE2t6JYg0iYaB6_L2C3btx9U.jpg',\n",
       "       'width': 720,\n",
       "       'height': 432,\n",
       "       'user': {'id': '25745044',\n",
       "        'firstName': 'Malissa',\n",
       "        'lastName': 'F',\n",
       "        'gender': 'female',\n",
       "        'photo': {'prefix': 'https://fastly.4sqi.net/img/user/',\n",
       "         'suffix': '/4WF1YGKCPUTMUQ4W.jpg'}},\n",
       "       'visibility': 'public'},\n",
       "      'followers': {'count': 3},\n",
       "      'listItems': {'count': 29,\n",
       "       'items': [{'id': 'v4c0823937c9ad13a88a42c1e',\n",
       "         'createdAt': 1339605769,\n",
       "         'photo': {'id': '4f9c8617e4b017646616853c',\n",
       "          'createdAt': 1335658007,\n",
       "          'prefix': 'https://fastly.4sqi.net/img/general/',\n",
       "          'suffix': '/FvOZsLWjHdvfmBsY6374fP4rmX1QJ4bLwZtfE1iOk84.jpg',\n",
       "          'width': 720,\n",
       "          'height': 432,\n",
       "          'user': {'id': '25745044',\n",
       "           'firstName': 'Malissa',\n",
       "           'lastName': 'F',\n",
       "           'gender': 'female',\n",
       "           'photo': {'prefix': 'https://fastly.4sqi.net/img/user/',\n",
       "            'suffix': '/4WF1YGKCPUTMUQ4W.jpg'}},\n",
       "          'visibility': 'public'}}]}},\n",
       "     {'id': '4fd8bb85e4b0e0d26b773c1e',\n",
       "      'name': \"Guide to Dallas's best spots\",\n",
       "      'description': '',\n",
       "      'type': 'others',\n",
       "      'user': {'id': '25745044',\n",
       "       'firstName': 'Malissa',\n",
       "       'lastName': 'F',\n",
       "       'gender': 'female',\n",
       "       'photo': {'prefix': 'https://fastly.4sqi.net/img/user/',\n",
       "        'suffix': '/4WF1YGKCPUTMUQ4W.jpg'}},\n",
       "      'editable': False,\n",
       "      'public': True,\n",
       "      'collaborative': False,\n",
       "      'url': '/widdajane/list/guide-to-dallass-best-spots',\n",
       "      'canonicalUrl': 'https://foursquare.com/widdajane/list/guide-to-dallass-best-spots',\n",
       "      'createdAt': 1339603845,\n",
       "      'updatedAt': 1339604134,\n",
       "      'photo': {'id': '4fa1f620e4b08875953c9ef1',\n",
       "       'createdAt': 1336014368,\n",
       "       'prefix': 'https://fastly.4sqi.net/img/general/',\n",
       "       'suffix': '/KQN0MrgTy6Yj-DiQSw_yAg4IdD3UgvKq4Pzvlk0nOWY.jpg',\n",
       "       'width': 720,\n",
       "       'height': 432,\n",
       "       'user': {'id': '25745044',\n",
       "        'firstName': 'Malissa',\n",
       "        'lastName': 'F',\n",
       "        'gender': 'female',\n",
       "        'photo': {'prefix': 'https://fastly.4sqi.net/img/user/',\n",
       "         'suffix': '/4WF1YGKCPUTMUQ4W.jpg'}},\n",
       "       'visibility': 'public'},\n",
       "      'followers': {'count': 1},\n",
       "      'listItems': {'count': 28,\n",
       "       'items': [{'id': 'v4c0823937c9ad13a88a42c1e',\n",
       "         'createdAt': 1339603845}]}}]}]},\n",
       " 'hours': {'status': 'Open until 10:00 PM',\n",
       "  'richStatus': {'entities': [], 'text': 'Open until 10:00 PM'},\n",
       "  'isOpen': True,\n",
       "  'isLocalHoliday': False,\n",
       "  'dayData': [],\n",
       "  'timeframes': [{'days': 'Mon–Thu, Sun',\n",
       "    'includesToday': True,\n",
       "    'open': [{'renderedTime': '11:00 AM–10:00 PM'}],\n",
       "    'segments': []},\n",
       "   {'days': 'Fri–Sat',\n",
       "    'open': [{'renderedTime': '11:00 AM–11:00 PM'}],\n",
       "    'segments': []}]},\n",
       " 'popular': {'status': 'Likely open',\n",
       "  'richStatus': {'entities': [], 'text': 'Likely open'},\n",
       "  'isOpen': True,\n",
       "  'isLocalHoliday': False,\n",
       "  'timeframes': [{'days': 'Today',\n",
       "    'includesToday': True,\n",
       "    'open': [{'renderedTime': '11:00 AM–10:00 PM'}],\n",
       "    'segments': []},\n",
       "   {'days': 'Fri',\n",
       "    'open': [{'renderedTime': '11:00 AM–10:00 PM'}],\n",
       "    'segments': []},\n",
       "   {'days': 'Sat',\n",
       "    'open': [{'renderedTime': 'Noon–10:00 PM'}],\n",
       "    'segments': []},\n",
       "   {'days': 'Sun',\n",
       "    'open': [{'renderedTime': '11:00 AM–9:00 PM'}],\n",
       "    'segments': []},\n",
       "   {'days': 'Mon',\n",
       "    'open': [{'renderedTime': '11:00 AM–4:00 PM'},\n",
       "     {'renderedTime': '6:00 PM–9:00 PM'}],\n",
       "    'segments': []},\n",
       "   {'days': 'Tue',\n",
       "    'open': [{'renderedTime': '11:00 AM–3:00 PM'},\n",
       "     {'renderedTime': '6:00 PM–10:00 PM'}],\n",
       "    'segments': []},\n",
       "   {'days': 'Wed',\n",
       "    'open': [{'renderedTime': '11:00 AM–2:00 PM'},\n",
       "     {'renderedTime': '5:00 PM–9:00 PM'}],\n",
       "    'segments': []}]},\n",
       " 'pageUpdates': {'count': 31, 'items': []},\n",
       " 'inbox': {'count': 0, 'items': []},\n",
       " 'attributes': {'groups': [{'type': 'price',\n",
       "    'name': 'Price',\n",
       "    'summary': '$$',\n",
       "    'count': 1,\n",
       "    'items': [{'displayName': 'Price', 'displayValue': '$$', 'priceTier': 2}]},\n",
       "   {'type': 'reservations',\n",
       "    'name': 'Reservations',\n",
       "    'summary': 'Reservations',\n",
       "    'count': 3,\n",
       "    'items': [{'displayName': 'Reservations', 'displayValue': 'Yes'}]},\n",
       "   {'type': 'payments',\n",
       "    'name': 'Credit Cards',\n",
       "    'summary': 'Credit Cards',\n",
       "    'count': 7,\n",
       "    'items': [{'displayName': 'Credit Cards', 'displayValue': 'Yes'}]},\n",
       "   {'type': 'outdoorSeating',\n",
       "    'name': 'Outdoor Seating',\n",
       "    'count': 1,\n",
       "    'items': [{'displayName': 'Outdoor Seating', 'displayValue': 'No'}]},\n",
       "   {'type': 'wifi',\n",
       "    'name': 'Wi-Fi',\n",
       "    'summary': 'Wi-Fi',\n",
       "    'count': 1,\n",
       "    'items': [{'displayName': 'Wi-Fi', 'displayValue': 'Yes'}]},\n",
       "   {'type': 'serves',\n",
       "    'name': 'Menus',\n",
       "    'summary': 'Dinner, Lunch & more',\n",
       "    'count': 8,\n",
       "    'items': [{'displayName': 'Brunch', 'displayValue': 'Brunch'},\n",
       "     {'displayName': 'Lunch', 'displayValue': 'Lunch'},\n",
       "     {'displayName': 'Dinner', 'displayValue': 'Dinner'}]},\n",
       "   {'type': 'drinks',\n",
       "    'name': 'Drinks',\n",
       "    'summary': 'Wine, Full Bar & Cocktails',\n",
       "    'count': 5,\n",
       "    'items': [{'displayName': 'Wine', 'displayValue': 'Wine'},\n",
       "     {'displayName': 'Full Bar', 'displayValue': 'Full Bar'},\n",
       "     {'displayName': 'Cocktails', 'displayValue': 'Cocktails'}]},\n",
       "   {'type': 'diningOptions',\n",
       "    'name': 'Dining Options',\n",
       "    'count': 5,\n",
       "    'items': [{'displayName': 'Delivery', 'displayValue': 'No Delivery'}]}]},\n",
       " 'bestPhoto': {'id': '4f3707d7e4b0a1f1967801e7',\n",
       "  'createdAt': 1329006551,\n",
       "  'source': {'name': 'Foursquare for iOS',\n",
       "   'url': 'https://foursquare.com/download/#/iphone'},\n",
       "  'prefix': 'https://fastly.4sqi.net/img/general/',\n",
       "  'suffix': '/2IvyrastPE0i31k6VV1p9ZteTJLUknqkWQMbL0GTTHA.jpg',\n",
       "  'width': 537,\n",
       "  'height': 720,\n",
       "  'visibility': 'public'},\n",
       " 'colors': {'highlightColor': {'photoId': '4f3707d7e4b0a1f1967801e7',\n",
       "   'value': -7303072},\n",
       "  'highlightTextColor': {'photoId': '4f3707d7e4b0a1f1967801e7',\n",
       "   'value': -16777216},\n",
       "  'algoVersion': 3}}"
      ]
     },
     "execution_count": 25,
     "metadata": {},
     "output_type": "execute_result"
    }
   ],
   "source": [
    "result = requests.get(url).json()\n",
    "print(result['response']['venue'].keys())\n",
    "result['response']['venue']"
   ]
  },
  {
   "cell_type": "markdown",
   "metadata": {},
   "source": [
    "### B. Get the venue's overall rating"
   ]
  },
  {
   "cell_type": "code",
   "execution_count": 26,
   "metadata": {},
   "outputs": [
    {
     "name": "stdout",
     "output_type": "stream",
     "text": [
      "8.2\n"
     ]
    }
   ],
   "source": [
    "try:\n",
    "    print(result['response']['venue']['rating'])\n",
    "except:\n",
    "    print('This venue has not been rated yet.')"
   ]
  },
  {
   "cell_type": "code",
   "execution_count": null,
   "metadata": {},
   "outputs": [],
   "source": [
    "#### I think this is a good rating. If you do not like this rating you can keep checking other venues with these codes:\n",
    "'''\n",
    "venue_id = '...............' # ID of another Italian Restaurant\n",
    "url = 'https://api.foursquare.com/v2/venues/{}?client_id={}&client_secret={}&v={}'.format(venue_id, CLIENT_ID, CLIENT_SECRET, VERSION)\n",
    "\n",
    "result = requests.get(url).json()\n",
    "try:\n",
    "    print(result['response']['venue']['rating'])\n",
    "except:\n",
    "    print('This venue has not been rated yet.')\n",
    "'''"
   ]
  },
  {
   "cell_type": "markdown",
   "metadata": {},
   "source": [
    "### C. Get the number of tips"
   ]
  },
  {
   "cell_type": "code",
   "execution_count": 28,
   "metadata": {},
   "outputs": [
    {
     "data": {
      "text/plain": [
       "29"
      ]
     },
     "execution_count": 28,
     "metadata": {},
     "output_type": "execute_result"
    }
   ],
   "source": [
    "result['response']['venue']['tips']['count']"
   ]
  },
  {
   "cell_type": "markdown",
   "metadata": {},
   "source": [
    "### D. Get the venue's tips\n",
    "> `https://api.foursquare.com/v2/venues/`**VENUE_ID**`/tips?client_id=`**CLIENT_ID**`&client_secret=`**CLIENT_SECRET**`&v=`**VERSION**`&limit=`**LIMIT**"
   ]
  },
  {
   "cell_type": "markdown",
   "metadata": {},
   "source": [
    "#### Create URL and send GET request. Make sure to set limit to get all tips"
   ]
  },
  {
   "cell_type": "code",
   "execution_count": 29,
   "metadata": {},
   "outputs": [
    {
     "data": {
      "text/plain": [
       "{'meta': {'code': 200, 'requestId': '5d02a2a8351e3d1ffbfa31ee'},\n",
       " 'response': {'tips': {'count': 29,\n",
       "   'items': [{'id': '55c3f7c8498e3584a13913e1',\n",
       "     'createdAt': 1438906312,\n",
       "     'text': 'Chicken and gnocchi soup is something I could eat all day and night with no breaks for the rest of my life and then some.',\n",
       "     'type': 'user',\n",
       "     'canonicalUrl': 'https://foursquare.com/item/55c3f7c8498e3584a13913e1',\n",
       "     'lang': 'en',\n",
       "     'likes': {'count': 0, 'groups': []},\n",
       "     'logView': True,\n",
       "     'agreeCount': 0,\n",
       "     'disagreeCount': 0,\n",
       "     'todo': {'count': 1},\n",
       "     'user': {'id': '134047479',\n",
       "      'firstName': 'Lauren',\n",
       "      'lastName': 'C',\n",
       "      'gender': 'female',\n",
       "      'photo': {'prefix': 'https://fastly.4sqi.net/img/user/',\n",
       "       'suffix': '/134047479-M3GQOUPIOCFG4HMM.jpg'}},\n",
       "     'authorInteractionType': 'liked'}]}}}"
      ]
     },
     "execution_count": 29,
     "metadata": {},
     "output_type": "execute_result"
    }
   ],
   "source": [
    "## Olive Garden Tips\n",
    "limit = 15 # set limit to be greater than or equal to the total number of tips\n",
    "url = 'https://api.foursquare.com/v2/venues/{}/tips?client_id={}&client_secret={}&v={}&limit={}'.format(venue_id, CLIENT_ID, CLIENT_SECRET, VERSION, limit)\n",
    "\n",
    "results = requests.get(url).json()\n",
    "results"
   ]
  },
  {
   "cell_type": "markdown",
   "metadata": {},
   "source": [
    "#### Get tips and list of associated features"
   ]
  },
  {
   "cell_type": "code",
   "execution_count": 30,
   "metadata": {},
   "outputs": [
    {
     "data": {
      "text/plain": [
       "dict_keys(['id', 'createdAt', 'text', 'type', 'canonicalUrl', 'lang', 'likes', 'logView', 'agreeCount', 'disagreeCount', 'todo', 'user', 'authorInteractionType'])"
      ]
     },
     "execution_count": 30,
     "metadata": {},
     "output_type": "execute_result"
    }
   ],
   "source": [
    "tips = results['response']['tips']['items']\n",
    "\n",
    "tip = results['response']['tips']['items'][0]\n",
    "tip.keys()"
   ]
  },
  {
   "cell_type": "markdown",
   "metadata": {},
   "source": [
    "#### Format column width and display all tips"
   ]
  },
  {
   "cell_type": "code",
   "execution_count": 31,
   "metadata": {},
   "outputs": [
    {
     "data": {
      "text/html": [
       "<div>\n",
       "<style scoped>\n",
       "    .dataframe tbody tr th:only-of-type {\n",
       "        vertical-align: middle;\n",
       "    }\n",
       "\n",
       "    .dataframe tbody tr th {\n",
       "        vertical-align: top;\n",
       "    }\n",
       "\n",
       "    .dataframe thead th {\n",
       "        text-align: right;\n",
       "    }\n",
       "</style>\n",
       "<table border=\"1\" class=\"dataframe\">\n",
       "  <thead>\n",
       "    <tr style=\"text-align: right;\">\n",
       "      <th></th>\n",
       "      <th>text</th>\n",
       "      <th>agreeCount</th>\n",
       "      <th>disagreeCount</th>\n",
       "      <th>id</th>\n",
       "      <th>user.firstName</th>\n",
       "      <th>user.lastName</th>\n",
       "      <th>user.gender</th>\n",
       "      <th>user.id</th>\n",
       "    </tr>\n",
       "  </thead>\n",
       "  <tbody>\n",
       "    <tr>\n",
       "      <th>0</th>\n",
       "      <td>Chicken and gnocchi soup is something I could eat all day and night with no breaks for the rest of my life and then some.</td>\n",
       "      <td>0</td>\n",
       "      <td>0</td>\n",
       "      <td>55c3f7c8498e3584a13913e1</td>\n",
       "      <td>Lauren</td>\n",
       "      <td>C</td>\n",
       "      <td>female</td>\n",
       "      <td>134047479</td>\n",
       "    </tr>\n",
       "  </tbody>\n",
       "</table>\n",
       "</div>"
      ],
      "text/plain": [
       "                                                                                                                        text  \\\n",
       "0  Chicken and gnocchi soup is something I could eat all day and night with no breaks for the rest of my life and then some.   \n",
       "\n",
       "   agreeCount  disagreeCount                        id user.firstName  \\\n",
       "0  0           0              55c3f7c8498e3584a13913e1  Lauren          \n",
       "\n",
       "  user.lastName user.gender    user.id  \n",
       "0  C             female      134047479  "
      ]
     },
     "execution_count": 31,
     "metadata": {},
     "output_type": "execute_result"
    }
   ],
   "source": [
    "pd.set_option('display.max_colwidth', -1)\n",
    "\n",
    "tips_df = json_normalize(tips) # json normalize tips\n",
    "\n",
    "# columns to keep\n",
    "filtered_columns = ['text', 'agreeCount', 'disagreeCount', 'id', 'user.firstName', 'user.lastName', 'user.gender', 'user.id']\n",
    "tips_filtered = tips_df.loc[:, filtered_columns]\n",
    "\n",
    "# display tips\n",
    "tips_filtered"
   ]
  },
  {
   "cell_type": "markdown",
   "metadata": {},
   "source": [
    "Since we are using a personal developer account on Foursquare, we can access only 2 of the restaurant's tips, instead of all 29 tips."
   ]
  },
  {
   "cell_type": "markdown",
   "metadata": {},
   "source": [
    "## 3. Search a Foursquare User\n",
    "> `https://api.foursquare.com/v2/users/`**USER_ID**`?client_id=`**CLIENT_ID**`&client_secret=`**CLIENT_SECRET**`&v=`**VERSION**"
   ]
  },
  {
   "cell_type": "markdown",
   "metadata": {},
   "source": [
    "### Define URL, send GET request and display features associated with user"
   ]
  },
  {
   "cell_type": "code",
   "execution_count": 32,
   "metadata": {},
   "outputs": [
    {
     "data": {
      "text/plain": [
       "dict_keys(['id', 'firstName', 'lastName', 'gender', 'canonicalUrl', 'photo', 'friends', 'tips', 'homeCity', 'bio', 'contact', 'photos', 'type', 'mayorships', 'checkins', 'lists', 'lenses'])"
      ]
     },
     "execution_count": 32,
     "metadata": {},
     "output_type": "execute_result"
    }
   ],
   "source": [
    "user_id = '134047479' # user ID who reviewed Olive Garden\n",
    "\n",
    "url = 'https://api.foursquare.com/v2/users/{}?client_id={}&client_secret={}&v={}'.format(user_id, CLIENT_ID, CLIENT_SECRET, VERSION) # define URL\n",
    "\n",
    "# send GET request\n",
    "results = requests.get(url).json()\n",
    "user_data = results['response']['user']\n",
    "\n",
    "# display features associated with user\n",
    "user_data.keys()"
   ]
  },
  {
   "cell_type": "code",
   "execution_count": 33,
   "metadata": {},
   "outputs": [
    {
     "name": "stdout",
     "output_type": "stream",
     "text": [
      "First Name: Lauren\n",
      "Last Name: C\n",
      "Home City: Dallas, TX\n"
     ]
    }
   ],
   "source": [
    "print('First Name: ' + user_data['firstName'])\n",
    "print('Last Name: ' + user_data['lastName'])\n",
    "print('Home City: ' + user_data['homeCity'])"
   ]
  },
  {
   "cell_type": "markdown",
   "metadata": {},
   "source": [
    "#### How many tips has this user submitted?"
   ]
  },
  {
   "cell_type": "code",
   "execution_count": 34,
   "metadata": {},
   "outputs": [
    {
     "data": {
      "text/plain": [
       "{'count': 28}"
      ]
     },
     "execution_count": 34,
     "metadata": {},
     "output_type": "execute_result"
    }
   ],
   "source": [
    "user_data['tips']"
   ]
  },
  {
   "cell_type": "markdown",
   "metadata": {},
   "source": [
    "So it turns out that Lauren is not a very active Foursquare user, with more than 20 tips."
   ]
  },
  {
   "cell_type": "markdown",
   "metadata": {},
   "source": [
    "### Get User's tips"
   ]
  },
  {
   "cell_type": "code",
   "execution_count": 35,
   "metadata": {},
   "outputs": [
    {
     "data": {
      "text/html": [
       "<div>\n",
       "<style scoped>\n",
       "    .dataframe tbody tr th:only-of-type {\n",
       "        vertical-align: middle;\n",
       "    }\n",
       "\n",
       "    .dataframe tbody tr th {\n",
       "        vertical-align: top;\n",
       "    }\n",
       "\n",
       "    .dataframe thead th {\n",
       "        text-align: right;\n",
       "    }\n",
       "</style>\n",
       "<table border=\"1\" class=\"dataframe\">\n",
       "  <thead>\n",
       "    <tr style=\"text-align: right;\">\n",
       "      <th></th>\n",
       "      <th>text</th>\n",
       "      <th>agreeCount</th>\n",
       "      <th>disagreeCount</th>\n",
       "      <th>id</th>\n",
       "    </tr>\n",
       "  </thead>\n",
       "  <tbody>\n",
       "    <tr>\n",
       "      <th>0</th>\n",
       "      <td>The dolmas for starters and the baklava ice cream and/or baklava for dessert is a MUST! The portions are huge and delicious!</td>\n",
       "      <td>0</td>\n",
       "      <td>0</td>\n",
       "      <td>56d135e4498e689e18e007a5</td>\n",
       "    </tr>\n",
       "    <tr>\n",
       "      <th>1</th>\n",
       "      <td>Everything from the basics to more obscure and hard to find foods (mochi ice cream, pork buns, uncommon curries...). It's decently priced! Even on a budget, you could still grab a treat or two...</td>\n",
       "      <td>1</td>\n",
       "      <td>0</td>\n",
       "      <td>560b559b498eb2c65826958a</td>\n",
       "    </tr>\n",
       "    <tr>\n",
       "      <th>2</th>\n",
       "      <td>Chai tea is smooth and gorgeously crafted!</td>\n",
       "      <td>0</td>\n",
       "      <td>0</td>\n",
       "      <td>55f217f9498e1b1bb1c332f3</td>\n",
       "    </tr>\n",
       "    <tr>\n",
       "      <th>3</th>\n",
       "      <td>Super Mexican Dinner was delicious and a great value! Try the Occulto beer!</td>\n",
       "      <td>0</td>\n",
       "      <td>0</td>\n",
       "      <td>55f0e0b9498e67868bc0eb2d</td>\n",
       "    </tr>\n",
       "    <tr>\n",
       "      <th>4</th>\n",
       "      <td>Ashely is my new regular stylist! She was so sweet! She was very quick and efficient, but don't think that makes her cuts any less quality! She cut my hair short when no one else would. :)</td>\n",
       "      <td>0</td>\n",
       "      <td>0</td>\n",
       "      <td>55e5f660498e308d7e03d83f</td>\n",
       "    </tr>\n",
       "    <tr>\n",
       "      <th>5</th>\n",
       "      <td>The food is good but expensive, take care to not sit under a speaker, the music is loud and can get obnoxious over time.</td>\n",
       "      <td>0</td>\n",
       "      <td>0</td>\n",
       "      <td>55c7e6c4498eb0c54a819511</td>\n",
       "    </tr>\n",
       "    <tr>\n",
       "      <th>6</th>\n",
       "      <td>The black bean nachos are surprisingly good!</td>\n",
       "      <td>1</td>\n",
       "      <td>0</td>\n",
       "      <td>55c3fccb498e3584a13fcc12</td>\n",
       "    </tr>\n",
       "    <tr>\n",
       "      <th>7</th>\n",
       "      <td>Incredibly good for how affordable they are! A Lake Highlands rite of passage. GET THE CHEESY TOTS!</td>\n",
       "      <td>0</td>\n",
       "      <td>0</td>\n",
       "      <td>55c3fb75498e4b2c0fd07c9f</td>\n",
       "    </tr>\n",
       "    <tr>\n",
       "      <th>8</th>\n",
       "      <td>The sushi and curry are both delicious here!</td>\n",
       "      <td>0</td>\n",
       "      <td>0</td>\n",
       "      <td>55c3faae498e59f58d6be624</td>\n",
       "    </tr>\n",
       "    <tr>\n",
       "      <th>9</th>\n",
       "      <td>Chicken and gnocchi soup is something I could eat all day and night with no breaks for the rest of my life and then some.</td>\n",
       "      <td>0</td>\n",
       "      <td>0</td>\n",
       "      <td>55c3f7c8498e3584a13913e1</td>\n",
       "    </tr>\n",
       "    <tr>\n",
       "      <th>10</th>\n",
       "      <td>Good, down and dirty, messy burgers, hot dogs, chicken tenders, and fries! Chili dog and cheese fries is my order of choice!</td>\n",
       "      <td>0</td>\n",
       "      <td>0</td>\n",
       "      <td>55c3f728498e0d2ce604372c</td>\n",
       "    </tr>\n",
       "    <tr>\n",
       "      <th>11</th>\n",
       "      <td>Everything is cheap and Good!</td>\n",
       "      <td>0</td>\n",
       "      <td>0</td>\n",
       "      <td>55c3f62f498e782cd6f20646</td>\n",
       "    </tr>\n",
       "    <tr>\n",
       "      <th>12</th>\n",
       "      <td>Everything is consistently great and very affordable! The coffee is shockingly Good and bottomless, and the donuts are inexpensive and delicious! Boston cream pie donuts are my favorite!</td>\n",
       "      <td>1</td>\n",
       "      <td>0</td>\n",
       "      <td>55c3f271498e782cd6ecb262</td>\n",
       "    </tr>\n",
       "    <tr>\n",
       "      <th>13</th>\n",
       "      <td>The snickerdoodles are addicting like no other!</td>\n",
       "      <td>0</td>\n",
       "      <td>0</td>\n",
       "      <td>55c3f1b9498e2365a80cecf9</td>\n",
       "    </tr>\n",
       "    <tr>\n",
       "      <th>14</th>\n",
       "      <td>Women's section is very expensive for not a lot and very thin clothing. Go here if you're looking to layer up or for a nice dress. Otherwise hit up the men's for down-to-earth fashion and quality.</td>\n",
       "      <td>0</td>\n",
       "      <td>0</td>\n",
       "      <td>55c3f0a4498e2365a80b70f8</td>\n",
       "    </tr>\n",
       "  </tbody>\n",
       "</table>\n",
       "</div>"
      ],
      "text/plain": [
       "                                                                                                                                                                                                    text  \\\n",
       "0   The dolmas for starters and the baklava ice cream and/or baklava for dessert is a MUST! The portions are huge and delicious!                                                                           \n",
       "1   Everything from the basics to more obscure and hard to find foods (mochi ice cream, pork buns, uncommon curries...). It's decently priced! Even on a budget, you could still grab a treat or two...    \n",
       "2   Chai tea is smooth and gorgeously crafted!                                                                                                                                                             \n",
       "3   Super Mexican Dinner was delicious and a great value! Try the Occulto beer!                                                                                                                            \n",
       "4   Ashely is my new regular stylist! She was so sweet! She was very quick and efficient, but don't think that makes her cuts any less quality! She cut my hair short when no one else would. :)           \n",
       "5   The food is good but expensive, take care to not sit under a speaker, the music is loud and can get obnoxious over time.                                                                               \n",
       "6   The black bean nachos are surprisingly good!                                                                                                                                                           \n",
       "7   Incredibly good for how affordable they are! A Lake Highlands rite of passage. GET THE CHEESY TOTS!                                                                                                    \n",
       "8   The sushi and curry are both delicious here!                                                                                                                                                           \n",
       "9   Chicken and gnocchi soup is something I could eat all day and night with no breaks for the rest of my life and then some.                                                                              \n",
       "10  Good, down and dirty, messy burgers, hot dogs, chicken tenders, and fries! Chili dog and cheese fries is my order of choice!                                                                           \n",
       "11  Everything is cheap and Good!                                                                                                                                                                          \n",
       "12  Everything is consistently great and very affordable! The coffee is shockingly Good and bottomless, and the donuts are inexpensive and delicious! Boston cream pie donuts are my favorite!             \n",
       "13  The snickerdoodles are addicting like no other!                                                                                                                                                        \n",
       "14  Women's section is very expensive for not a lot and very thin clothing. Go here if you're looking to layer up or for a nice dress. Otherwise hit up the men's for down-to-earth fashion and quality.   \n",
       "\n",
       "    agreeCount  disagreeCount                        id  \n",
       "0   0           0              56d135e4498e689e18e007a5  \n",
       "1   1           0              560b559b498eb2c65826958a  \n",
       "2   0           0              55f217f9498e1b1bb1c332f3  \n",
       "3   0           0              55f0e0b9498e67868bc0eb2d  \n",
       "4   0           0              55e5f660498e308d7e03d83f  \n",
       "5   0           0              55c7e6c4498eb0c54a819511  \n",
       "6   1           0              55c3fccb498e3584a13fcc12  \n",
       "7   0           0              55c3fb75498e4b2c0fd07c9f  \n",
       "8   0           0              55c3faae498e59f58d6be624  \n",
       "9   0           0              55c3f7c8498e3584a13913e1  \n",
       "10  0           0              55c3f728498e0d2ce604372c  \n",
       "11  0           0              55c3f62f498e782cd6f20646  \n",
       "12  1           0              55c3f271498e782cd6ecb262  \n",
       "13  0           0              55c3f1b9498e2365a80cecf9  \n",
       "14  0           0              55c3f0a4498e2365a80b70f8  "
      ]
     },
     "execution_count": 35,
     "metadata": {},
     "output_type": "execute_result"
    }
   ],
   "source": [
    "# define tips URL\n",
    "url = 'https://api.foursquare.com/v2/users/{}/tips?client_id={}&client_secret={}&v={}&limit={}'.format(user_id, CLIENT_ID, CLIENT_SECRET, VERSION, limit)\n",
    "\n",
    "# send GET request and get user's tips\n",
    "results = requests.get(url).json()\n",
    "tips = results['response']['tips']['items']\n",
    "\n",
    "# format column width\n",
    "pd.set_option('display.max_colwidth', -1)\n",
    "\n",
    "tips_df = json_normalize(tips)\n",
    "\n",
    "# filter columns\n",
    "filtered_columns = ['text', 'agreeCount', 'disagreeCount', 'id']\n",
    "tips_filtered = tips_df.loc[:, filtered_columns]\n",
    "\n",
    "# display user's tips\n",
    "tips_filtered"
   ]
  },
  {
   "cell_type": "markdown",
   "metadata": {},
   "source": [
    "#### Let's get the venue for the tip with the greatest number of agree counts"
   ]
  },
  {
   "cell_type": "code",
   "execution_count": 36,
   "metadata": {},
   "outputs": [
    {
     "name": "stdout",
     "output_type": "stream",
     "text": [
      "Greek Isles Grill & Taverna\n",
      "{'address': '3309 N. Central Expwy. Ste. 370', 'crossStreet': 'Parker', 'lat': 33.04078940658376, 'lng': -96.70511648377477, 'labeledLatLngs': [{'label': 'display', 'lat': 33.04078940658376, 'lng': -96.70511648377477}], 'postalCode': '75023', 'cc': 'US', 'city': 'Plano', 'state': 'TX', 'country': 'United States', 'formattedAddress': ['3309 N. Central Expwy. Ste. 370 (Parker)', 'Plano, TX 75023', 'United States']}\n"
     ]
    }
   ],
   "source": [
    "tip_id = '56d135e4498e689e18e007a5' # tip id\n",
    "\n",
    "# define URL\n",
    "url = 'http://api.foursquare.com/v2/tips/{}?client_id={}&client_secret={}&v={}'.format(tip_id, CLIENT_ID, CLIENT_SECRET, VERSION)\n",
    "\n",
    "# send GET Request and examine results\n",
    "result = requests.get(url).json()\n",
    "print(result['response']['tip']['venue']['name'])\n",
    "print(result['response']['tip']['venue']['location'])"
   ]
  },
  {
   "cell_type": "markdown",
   "metadata": {},
   "source": [
    "GREEK ISLES GRILL & TAVERNA"
   ]
  },
  {
   "cell_type": "markdown",
   "metadata": {},
   "source": [
    "### Get User's friends"
   ]
  },
  {
   "cell_type": "code",
   "execution_count": 37,
   "metadata": {},
   "outputs": [
    {
     "data": {
      "text/html": [
       "<div>\n",
       "<style scoped>\n",
       "    .dataframe tbody tr th:only-of-type {\n",
       "        vertical-align: middle;\n",
       "    }\n",
       "\n",
       "    .dataframe tbody tr th {\n",
       "        vertical-align: top;\n",
       "    }\n",
       "\n",
       "    .dataframe thead th {\n",
       "        text-align: right;\n",
       "    }\n",
       "</style>\n",
       "<table border=\"1\" class=\"dataframe\">\n",
       "  <thead>\n",
       "    <tr style=\"text-align: right;\">\n",
       "      <th></th>\n",
       "    </tr>\n",
       "  </thead>\n",
       "  <tbody>\n",
       "  </tbody>\n",
       "</table>\n",
       "</div>"
      ],
      "text/plain": [
       "Empty DataFrame\n",
       "Columns: []\n",
       "Index: []"
      ]
     },
     "execution_count": 37,
     "metadata": {},
     "output_type": "execute_result"
    }
   ],
   "source": [
    "user_friends = json_normalize(user_data['friends']['groups'][0]['items'])\n",
    "user_friends"
   ]
  },
  {
   "cell_type": "markdown",
   "metadata": {},
   "source": [
    "Interesting. It turns out that Lauren does not have any friends on Foursquare. This might definitely change in the future."
   ]
  },
  {
   "cell_type": "markdown",
   "metadata": {},
   "source": [
    "### Retrieve the User's Profile Image"
   ]
  },
  {
   "cell_type": "code",
   "execution_count": 38,
   "metadata": {},
   "outputs": [
    {
     "data": {
      "text/plain": [
       "{'id': '134047479',\n",
       " 'firstName': 'Lauren',\n",
       " 'lastName': 'C',\n",
       " 'gender': 'female',\n",
       " 'canonicalUrl': 'https://foursquare.com/user/134047479',\n",
       " 'photo': {'prefix': 'https://fastly.4sqi.net/img/user/',\n",
       "  'suffix': '/134047479-M3GQOUPIOCFG4HMM.jpg'},\n",
       " 'friends': {'count': 0,\n",
       "  'groups': [{'type': 'others',\n",
       "    'name': 'Other friends',\n",
       "    'count': 0,\n",
       "    'items': []}]},\n",
       " 'tips': {'count': 28},\n",
       " 'homeCity': 'Dallas, TX',\n",
       " 'bio': '',\n",
       " 'contact': {},\n",
       " 'photos': {'count': 0, 'items': []},\n",
       " 'type': 'user',\n",
       " 'mayorships': {'count': 0, 'items': []},\n",
       " 'checkins': {'count': 0, 'items': []},\n",
       " 'lists': {'count': 3,\n",
       "  'groups': [{'type': 'created',\n",
       "    'count': 1,\n",
       "    'items': [{'id': '55b99754498eb65f0a3ab0b9',\n",
       "      'name': 'Priority',\n",
       "      'description': '',\n",
       "      'editable': False,\n",
       "      'public': True,\n",
       "      'collaborative': False,\n",
       "      'url': '/user/134047479/list/priority',\n",
       "      'canonicalUrl': 'https://foursquare.com/user/134047479/list/priority',\n",
       "      'createdAt': 1438226260,\n",
       "      'updatedAt': 1438226260,\n",
       "      'photo': {'id': '4f73c777e4b03eeeeee21ff2',\n",
       "       'createdAt': 1332987767,\n",
       "       'prefix': 'https://fastly.4sqi.net/img/general/',\n",
       "       'suffix': '/90yIqFUrZ6yUZ95vShi7QJF9ChRdxtUGGN_G6Zjdd7Q.jpg',\n",
       "       'width': 612,\n",
       "       'height': 612,\n",
       "       'user': {'id': '58776',\n",
       "        'firstName': 'Jenny',\n",
       "        'lastName': 'P',\n",
       "        'gender': 'female',\n",
       "        'photo': {'prefix': 'https://fastly.4sqi.net/img/user/',\n",
       "         'suffix': '/ROOVWSUMUMPHYIGD.png'}},\n",
       "       'visibility': 'public'},\n",
       "      'followers': {'count': 0},\n",
       "      'listItems': {'count': 1}}]},\n",
       "   {'type': 'followed', 'count': 0, 'items': []},\n",
       "   {'type': 'yours',\n",
       "    'count': 2,\n",
       "    'items': [{'id': '134047479/todos',\n",
       "      'name': \"Lauren's Saved Places\",\n",
       "      'description': '',\n",
       "      'type': 'todos',\n",
       "      'editable': False,\n",
       "      'public': True,\n",
       "      'collaborative': False,\n",
       "      'url': '/user/134047479/list/todos',\n",
       "      'canonicalUrl': 'https://foursquare.com/user/134047479/list/todos',\n",
       "      'listItems': {'count': 96}},\n",
       "     {'id': '134047479/venuelikes',\n",
       "      'name': 'Lauren’s Liked Places',\n",
       "      'description': '',\n",
       "      'type': 'likes',\n",
       "      'editable': False,\n",
       "      'public': True,\n",
       "      'collaborative': False,\n",
       "      'url': '/user/134047479/list/venuelikes',\n",
       "      'canonicalUrl': 'https://foursquare.com/user/134047479/list/venuelikes',\n",
       "      'listItems': {'count': 0}}]}]},\n",
       " 'lenses': []}"
      ]
     },
     "execution_count": 38,
     "metadata": {},
     "output_type": "execute_result"
    }
   ],
   "source": [
    "user_data"
   ]
  },
  {
   "cell_type": "code",
   "execution_count": 40,
   "metadata": {},
   "outputs": [
    {
     "data": {
      "text/html": [
       "<img src=\"https://fastly.4sqi.net/img/user/300x300/134047479-M3GQOUPIOCFG4HMM.jpg\"/>"
      ],
      "text/plain": [
       "<IPython.core.display.Image object>"
      ]
     },
     "execution_count": 40,
     "metadata": {},
     "output_type": "execute_result"
    }
   ],
   "source": [
    "# 1. grab prefix of photo\n",
    "# 2. grab suffix of photo\n",
    "# 3. concatenate them using the image size  \n",
    "# Image(url='https://igx.4sqi.net/img/user/300x300/484542633_mK2Yum7T_7Tn9fWpndidJsmw2Hof_6T5vJBKCHPLMK5OL-U5ZiJGj51iwBstcpDLYa3Zvhvis.jpg')\n",
    "\n",
    "Image(url='https://fastly.4sqi.net/img/user/300x300/134047479-M3GQOUPIOCFG4HMM.jpg')"
   ]
  },
  {
   "cell_type": "markdown",
   "metadata": {},
   "source": [
    "## 4. Explore a location\n",
    "> `https://api.foursquare.com/v2/venues/`**explore**`?client_id=`**CLIENT_ID**`&client_secret=`**CLIENT_SECRET**`&ll=`**LATITUDE**`,`**LONGITUDE**`&v=`**VERSION**`&limit=`**LIMIT**"
   ]
  },
  {
   "cell_type": "markdown",
   "metadata": {},
   "source": [
    "#### So, you just finished your gourmet dish at Olive Garden, and are just curious about the popular spots around the restaurant. In order to explore the area, let's start by getting the latitude and longitude values of Olive Garden."
   ]
  },
  {
   "cell_type": "code",
   "execution_count": 41,
   "metadata": {},
   "outputs": [],
   "source": [
    "latitude = 32.91675186827861\n",
    "longitude = -96.74508288372964"
   ]
  },
  {
   "cell_type": "markdown",
   "metadata": {},
   "source": [
    "#### Define URL"
   ]
  },
  {
   "cell_type": "code",
   "execution_count": 42,
   "metadata": {},
   "outputs": [
    {
     "data": {
      "text/plain": [
       "'https://api.foursquare.com/v2/venues/explore?client_id=BFKMM4GRTIGNSMN31EI5UKVBB40DIW1EHDHDKAN3CY4C1PXH&client_secret=R2T2D4VTD3Q0Q4V3EWSKAMJ0AZNZLCBAPB0ADERT2Y1OFXTA&ll=32.91675186827861,-96.74508288372964&v=20180604&radius=2000&limit=30'"
      ]
     },
     "execution_count": 42,
     "metadata": {},
     "output_type": "execute_result"
    }
   ],
   "source": [
    "url = 'https://api.foursquare.com/v2/venues/explore?client_id={}&client_secret={}&ll={},{}&v={}&radius={}&limit={}'.format(CLIENT_ID, CLIENT_SECRET, latitude, longitude, VERSION, radius, LIMIT)\n",
    "url"
   ]
  },
  {
   "cell_type": "markdown",
   "metadata": {},
   "source": [
    "#### Send GET request and examine results"
   ]
  },
  {
   "cell_type": "code",
   "execution_count": 43,
   "metadata": {},
   "outputs": [],
   "source": [
    "import requests"
   ]
  },
  {
   "cell_type": "code",
   "execution_count": 44,
   "metadata": {},
   "outputs": [
    {
     "data": {
      "text/plain": [
       "'There are 30 around Olive Garden Restaurant.'"
      ]
     },
     "execution_count": 44,
     "metadata": {},
     "output_type": "execute_result"
    }
   ],
   "source": [
    "results = requests.get(url).json()\n",
    "'There are {} around Olive Garden Restaurant.'.format(len(results['response']['groups'][0]['items']))"
   ]
  },
  {
   "cell_type": "markdown",
   "metadata": {},
   "source": [
    "#### Get relevant part of JSON"
   ]
  },
  {
   "cell_type": "code",
   "execution_count": 45,
   "metadata": {},
   "outputs": [
    {
     "data": {
      "text/plain": [
       "{'reasons': {'count': 0,\n",
       "  'items': [{'summary': 'This spot is popular',\n",
       "    'type': 'general',\n",
       "    'reasonName': 'globalInteractionReason'}]},\n",
       " 'venue': {'id': '4be1b7fdedbb0f47b872a615',\n",
       "  'name': \"Al Lamb's Dallas Honda\",\n",
       "  'location': {'address': '9250 Lyndon B Johnson Fwy',\n",
       "   'lat': 32.914614949228685,\n",
       "   'lng': -96.74180234400495,\n",
       "   'labeledLatLngs': [{'label': 'display',\n",
       "     'lat': 32.914614949228685,\n",
       "     'lng': -96.74180234400495}],\n",
       "   'distance': 388,\n",
       "   'postalCode': '75243',\n",
       "   'cc': 'US',\n",
       "   'city': 'Dallas',\n",
       "   'state': 'TX',\n",
       "   'country': 'United States',\n",
       "   'formattedAddress': ['9250 Lyndon B Johnson Fwy',\n",
       "    'Dallas, TX 75243',\n",
       "    'United States']},\n",
       "  'categories': [{'id': '5032833091d4c4b30a586d60',\n",
       "    'name': 'Motorcycle Shop',\n",
       "    'pluralName': 'Motorcycle Shops',\n",
       "    'shortName': 'Motorcycle Shop',\n",
       "    'icon': {'prefix': 'https://ss3.4sqi.net/img/categories_v2/shops/motorcycle_',\n",
       "     'suffix': '.png'},\n",
       "    'primary': True}],\n",
       "  'photos': {'count': 0, 'groups': []},\n",
       "  'venuePage': {'id': '82054901'}},\n",
       " 'referralId': 'e-0-4be1b7fdedbb0f47b872a615-0'}"
      ]
     },
     "execution_count": 45,
     "metadata": {},
     "output_type": "execute_result"
    }
   ],
   "source": [
    "items = results['response']['groups'][0]['items']\n",
    "items[0]"
   ]
  },
  {
   "cell_type": "markdown",
   "metadata": {},
   "source": [
    "#### Process JSON and convert it to a clean dataframe"
   ]
  },
  {
   "cell_type": "code",
   "execution_count": 46,
   "metadata": {},
   "outputs": [
    {
     "data": {
      "text/html": [
       "<div>\n",
       "<style scoped>\n",
       "    .dataframe tbody tr th:only-of-type {\n",
       "        vertical-align: middle;\n",
       "    }\n",
       "\n",
       "    .dataframe tbody tr th {\n",
       "        vertical-align: top;\n",
       "    }\n",
       "\n",
       "    .dataframe thead th {\n",
       "        text-align: right;\n",
       "    }\n",
       "</style>\n",
       "<table border=\"1\" class=\"dataframe\">\n",
       "  <thead>\n",
       "    <tr style=\"text-align: right;\">\n",
       "      <th></th>\n",
       "      <th>name</th>\n",
       "      <th>categories</th>\n",
       "      <th>address</th>\n",
       "      <th>cc</th>\n",
       "      <th>city</th>\n",
       "      <th>country</th>\n",
       "      <th>crossStreet</th>\n",
       "      <th>distance</th>\n",
       "      <th>formattedAddress</th>\n",
       "      <th>labeledLatLngs</th>\n",
       "      <th>lat</th>\n",
       "      <th>lng</th>\n",
       "      <th>postalCode</th>\n",
       "      <th>state</th>\n",
       "      <th>id</th>\n",
       "    </tr>\n",
       "  </thead>\n",
       "  <tbody>\n",
       "    <tr>\n",
       "      <th>0</th>\n",
       "      <td>Al Lamb's Dallas Honda</td>\n",
       "      <td>Motorcycle Shop</td>\n",
       "      <td>9250 Lyndon B Johnson Fwy</td>\n",
       "      <td>US</td>\n",
       "      <td>Dallas</td>\n",
       "      <td>United States</td>\n",
       "      <td>NaN</td>\n",
       "      <td>388</td>\n",
       "      <td>[9250 Lyndon B Johnson Fwy, Dallas, TX 75243, United States]</td>\n",
       "      <td>[{'label': 'display', 'lat': 32.914614949228685, 'lng': -96.74180234400495}]</td>\n",
       "      <td>32.914615</td>\n",
       "      <td>-96.741802</td>\n",
       "      <td>75243</td>\n",
       "      <td>TX</td>\n",
       "      <td>4be1b7fdedbb0f47b872a615</td>\n",
       "    </tr>\n",
       "    <tr>\n",
       "      <th>1</th>\n",
       "      <td>Red Lobster</td>\n",
       "      <td>Seafood Restaurant</td>\n",
       "      <td>9069 Vantage Point Drive</td>\n",
       "      <td>US</td>\n",
       "      <td>Dallas</td>\n",
       "      <td>United States</td>\n",
       "      <td>LBJ @ Greenville Ave</td>\n",
       "      <td>68</td>\n",
       "      <td>[9069 Vantage Point Drive (LBJ @ Greenville Ave), Dallas, TX 75243, United States]</td>\n",
       "      <td>[{'label': 'display', 'lat': 32.917171, 'lng': -96.745624}]</td>\n",
       "      <td>32.917171</td>\n",
       "      <td>-96.745624</td>\n",
       "      <td>75243</td>\n",
       "      <td>TX</td>\n",
       "      <td>4aaae767f964a520f65720e3</td>\n",
       "    </tr>\n",
       "    <tr>\n",
       "      <th>2</th>\n",
       "      <td>Olive Garden</td>\n",
       "      <td>Italian Restaurant</td>\n",
       "      <td>9079 Vantage Point Dr</td>\n",
       "      <td>US</td>\n",
       "      <td>Dallas</td>\n",
       "      <td>United States</td>\n",
       "      <td>at Greenville Ave.</td>\n",
       "      <td>0</td>\n",
       "      <td>[9079 Vantage Point Dr (at Greenville Ave.), Dallas, TX 75243, United States]</td>\n",
       "      <td>[{'label': 'display', 'lat': 32.91675186827861, 'lng': -96.74508288372964}]</td>\n",
       "      <td>32.916752</td>\n",
       "      <td>-96.745083</td>\n",
       "      <td>75243</td>\n",
       "      <td>TX</td>\n",
       "      <td>4c0823937c9ad13a88a42c1e</td>\n",
       "    </tr>\n",
       "    <tr>\n",
       "      <th>3</th>\n",
       "      <td>JG's Old Fashioned Hamburgers</td>\n",
       "      <td>Burger Joint</td>\n",
       "      <td>12101 Greenville Ave Ste 109</td>\n",
       "      <td>US</td>\n",
       "      <td>Dallas</td>\n",
       "      <td>United States</td>\n",
       "      <td>NaN</td>\n",
       "      <td>456</td>\n",
       "      <td>[12101 Greenville Ave Ste 109, Dallas, TX 75243, United States]</td>\n",
       "      <td>[{'label': 'display', 'lat': 32.91275923157812, 'lng': -96.74617610118332}]</td>\n",
       "      <td>32.912759</td>\n",
       "      <td>-96.746176</td>\n",
       "      <td>75243</td>\n",
       "      <td>TX</td>\n",
       "      <td>4b267b1af964a520217c24e3</td>\n",
       "    </tr>\n",
       "    <tr>\n",
       "      <th>4</th>\n",
       "      <td>Yama Sushi</td>\n",
       "      <td>Japanese Restaurant</td>\n",
       "      <td>8989 Forest Ln</td>\n",
       "      <td>US</td>\n",
       "      <td>Dallas</td>\n",
       "      <td>United States</td>\n",
       "      <td>Ste. 112</td>\n",
       "      <td>863</td>\n",
       "      <td>[8989 Forest Ln (Ste. 112), Dallas, TX 75243, United States]</td>\n",
       "      <td>[{'label': 'display', 'lat': 32.91010755838198, 'lng': -96.74986077043891}]</td>\n",
       "      <td>32.910108</td>\n",
       "      <td>-96.749861</td>\n",
       "      <td>75243</td>\n",
       "      <td>TX</td>\n",
       "      <td>5192e871498ec9f59131a186</td>\n",
       "    </tr>\n",
       "    <tr>\n",
       "      <th>5</th>\n",
       "      <td>Summit Climbing, Yoga &amp; Fitness</td>\n",
       "      <td>Climbing Gym</td>\n",
       "      <td>9201 Forest Ln Ste 200</td>\n",
       "      <td>US</td>\n",
       "      <td>Dallas</td>\n",
       "      <td>United States</td>\n",
       "      <td>at Judd Ct.</td>\n",
       "      <td>811</td>\n",
       "      <td>[9201 Forest Ln Ste 200 (at Judd Ct.), Dallas, TX 75243, United States]</td>\n",
       "      <td>[{'label': 'display', 'lat': 32.90972456242962, 'lng': -96.74275766048282}]</td>\n",
       "      <td>32.909725</td>\n",
       "      <td>-96.742758</td>\n",
       "      <td>75243</td>\n",
       "      <td>TX</td>\n",
       "      <td>4a450a42f964a520b6a71fe3</td>\n",
       "    </tr>\n",
       "    <tr>\n",
       "      <th>6</th>\n",
       "      <td>Chick-fil-A</td>\n",
       "      <td>Fast Food Restaurant</td>\n",
       "      <td>9386 Lyndon B Johnson Fwy</td>\n",
       "      <td>US</td>\n",
       "      <td>Dallas</td>\n",
       "      <td>United States</td>\n",
       "      <td>NaN</td>\n",
       "      <td>987</td>\n",
       "      <td>[9386 Lyndon B Johnson Fwy, Dallas, TX 75243, United States]</td>\n",
       "      <td>[{'label': 'display', 'lat': 32.9111218, 'lng': -96.7369203}]</td>\n",
       "      <td>32.911122</td>\n",
       "      <td>-96.736920</td>\n",
       "      <td>75243</td>\n",
       "      <td>TX</td>\n",
       "      <td>4c05b64070839521820e7bce</td>\n",
       "    </tr>\n",
       "    <tr>\n",
       "      <th>7</th>\n",
       "      <td>Flaming Cheese</td>\n",
       "      <td>Greek Restaurant</td>\n",
       "      <td>9025 Forest Ln</td>\n",
       "      <td>US</td>\n",
       "      <td>Dallas</td>\n",
       "      <td>United States</td>\n",
       "      <td>NaN</td>\n",
       "      <td>856</td>\n",
       "      <td>[9025 Forest Ln, Dallas, TX 75243, United States]</td>\n",
       "      <td>[{'label': 'display', 'lat': 32.909504213111354, 'lng': -96.74814533534625}]</td>\n",
       "      <td>32.909504</td>\n",
       "      <td>-96.748145</td>\n",
       "      <td>75243</td>\n",
       "      <td>TX</td>\n",
       "      <td>54cd49f4498e7737c99f3cf2</td>\n",
       "    </tr>\n",
       "    <tr>\n",
       "      <th>8</th>\n",
       "      <td>Whataburger</td>\n",
       "      <td>Burger Joint</td>\n",
       "      <td>9322 Lyndon B Johnson Fwy</td>\n",
       "      <td>US</td>\n",
       "      <td>Dallas</td>\n",
       "      <td>United States</td>\n",
       "      <td>at Abrams Rd</td>\n",
       "      <td>1045</td>\n",
       "      <td>[9322 Lyndon B Johnson Fwy (at Abrams Rd), Dallas, TX 75243, United States]</td>\n",
       "      <td>[{'label': 'display', 'lat': 32.91084275035642, 'lng': -96.7363862754438}]</td>\n",
       "      <td>32.910843</td>\n",
       "      <td>-96.736386</td>\n",
       "      <td>75243</td>\n",
       "      <td>TX</td>\n",
       "      <td>4b4a2f8cf964a520db7d26e3</td>\n",
       "    </tr>\n",
       "    <tr>\n",
       "      <th>9</th>\n",
       "      <td>Texas Instruments South Campus</td>\n",
       "      <td>Office</td>\n",
       "      <td>12500 T I Blvd</td>\n",
       "      <td>US</td>\n",
       "      <td>Dallas</td>\n",
       "      <td>United States</td>\n",
       "      <td>Forest LN</td>\n",
       "      <td>874</td>\n",
       "      <td>[12500 T I Blvd (Forest LN), Dallas, TX 75243, United States]</td>\n",
       "      <td>[{'label': 'display', 'lat': 32.911665029235465, 'lng': -96.75220899822023}]</td>\n",
       "      <td>32.911665</td>\n",
       "      <td>-96.752209</td>\n",
       "      <td>75243</td>\n",
       "      <td>TX</td>\n",
       "      <td>4b58c354f964a520c76928e3</td>\n",
       "    </tr>\n",
       "  </tbody>\n",
       "</table>\n",
       "</div>"
      ],
      "text/plain": [
       "                              name            categories  \\\n",
       "0  Al Lamb's Dallas Honda           Motorcycle Shop        \n",
       "1  Red Lobster                      Seafood Restaurant     \n",
       "2  Olive Garden                     Italian Restaurant     \n",
       "3  JG's Old Fashioned Hamburgers    Burger Joint           \n",
       "4  Yama Sushi                       Japanese Restaurant    \n",
       "5  Summit Climbing, Yoga & Fitness  Climbing Gym           \n",
       "6  Chick-fil-A                      Fast Food Restaurant   \n",
       "7  Flaming Cheese                   Greek Restaurant       \n",
       "8  Whataburger                      Burger Joint           \n",
       "9  Texas Instruments South Campus   Office                 \n",
       "\n",
       "                        address  cc    city        country  \\\n",
       "0  9250 Lyndon B Johnson Fwy     US  Dallas  United States   \n",
       "1  9069 Vantage Point Drive      US  Dallas  United States   \n",
       "2  9079 Vantage Point Dr         US  Dallas  United States   \n",
       "3  12101 Greenville Ave Ste 109  US  Dallas  United States   \n",
       "4  8989 Forest Ln                US  Dallas  United States   \n",
       "5  9201 Forest Ln Ste 200        US  Dallas  United States   \n",
       "6  9386 Lyndon B Johnson Fwy     US  Dallas  United States   \n",
       "7  9025 Forest Ln                US  Dallas  United States   \n",
       "8  9322 Lyndon B Johnson Fwy     US  Dallas  United States   \n",
       "9  12500 T I Blvd                US  Dallas  United States   \n",
       "\n",
       "            crossStreet  distance  \\\n",
       "0  NaN                   388        \n",
       "1  LBJ @ Greenville Ave  68         \n",
       "2  at Greenville Ave.    0          \n",
       "3  NaN                   456        \n",
       "4  Ste. 112              863        \n",
       "5  at Judd Ct.           811        \n",
       "6  NaN                   987        \n",
       "7  NaN                   856        \n",
       "8  at Abrams Rd          1045       \n",
       "9  Forest LN             874        \n",
       "\n",
       "                                                                     formattedAddress  \\\n",
       "0  [9250 Lyndon B Johnson Fwy, Dallas, TX 75243, United States]                         \n",
       "1  [9069 Vantage Point Drive (LBJ @ Greenville Ave), Dallas, TX 75243, United States]   \n",
       "2  [9079 Vantage Point Dr (at Greenville Ave.), Dallas, TX 75243, United States]        \n",
       "3  [12101 Greenville Ave Ste 109, Dallas, TX 75243, United States]                      \n",
       "4  [8989 Forest Ln (Ste. 112), Dallas, TX 75243, United States]                         \n",
       "5  [9201 Forest Ln Ste 200 (at Judd Ct.), Dallas, TX 75243, United States]              \n",
       "6  [9386 Lyndon B Johnson Fwy, Dallas, TX 75243, United States]                         \n",
       "7  [9025 Forest Ln, Dallas, TX 75243, United States]                                    \n",
       "8  [9322 Lyndon B Johnson Fwy (at Abrams Rd), Dallas, TX 75243, United States]          \n",
       "9  [12500 T I Blvd (Forest LN), Dallas, TX 75243, United States]                        \n",
       "\n",
       "                                                                 labeledLatLngs  \\\n",
       "0  [{'label': 'display', 'lat': 32.914614949228685, 'lng': -96.74180234400495}]   \n",
       "1  [{'label': 'display', 'lat': 32.917171, 'lng': -96.745624}]                    \n",
       "2  [{'label': 'display', 'lat': 32.91675186827861, 'lng': -96.74508288372964}]    \n",
       "3  [{'label': 'display', 'lat': 32.91275923157812, 'lng': -96.74617610118332}]    \n",
       "4  [{'label': 'display', 'lat': 32.91010755838198, 'lng': -96.74986077043891}]    \n",
       "5  [{'label': 'display', 'lat': 32.90972456242962, 'lng': -96.74275766048282}]    \n",
       "6  [{'label': 'display', 'lat': 32.9111218, 'lng': -96.7369203}]                  \n",
       "7  [{'label': 'display', 'lat': 32.909504213111354, 'lng': -96.74814533534625}]   \n",
       "8  [{'label': 'display', 'lat': 32.91084275035642, 'lng': -96.7363862754438}]     \n",
       "9  [{'label': 'display', 'lat': 32.911665029235465, 'lng': -96.75220899822023}]   \n",
       "\n",
       "         lat        lng postalCode state                        id  \n",
       "0  32.914615 -96.741802  75243      TX    4be1b7fdedbb0f47b872a615  \n",
       "1  32.917171 -96.745624  75243      TX    4aaae767f964a520f65720e3  \n",
       "2  32.916752 -96.745083  75243      TX    4c0823937c9ad13a88a42c1e  \n",
       "3  32.912759 -96.746176  75243      TX    4b267b1af964a520217c24e3  \n",
       "4  32.910108 -96.749861  75243      TX    5192e871498ec9f59131a186  \n",
       "5  32.909725 -96.742758  75243      TX    4a450a42f964a520b6a71fe3  \n",
       "6  32.911122 -96.736920  75243      TX    4c05b64070839521820e7bce  \n",
       "7  32.909504 -96.748145  75243      TX    54cd49f4498e7737c99f3cf2  \n",
       "8  32.910843 -96.736386  75243      TX    4b4a2f8cf964a520db7d26e3  \n",
       "9  32.911665 -96.752209  75243      TX    4b58c354f964a520c76928e3  "
      ]
     },
     "execution_count": 46,
     "metadata": {},
     "output_type": "execute_result"
    }
   ],
   "source": [
    "dataframe = json_normalize(items) # flatten JSON\n",
    "\n",
    "# filter columns\n",
    "filtered_columns = ['venue.name', 'venue.categories'] + [col for col in dataframe.columns if col.startswith('venue.location.')] + ['venue.id']\n",
    "dataframe_filtered = dataframe.loc[:, filtered_columns]\n",
    "\n",
    "# filter the category for each row\n",
    "dataframe_filtered['venue.categories'] = dataframe_filtered.apply(get_category_type, axis=1)\n",
    "\n",
    "# clean columns\n",
    "dataframe_filtered.columns = [col.split('.')[-1] for col in dataframe_filtered.columns]\n",
    "\n",
    "dataframe_filtered.head(10)"
   ]
  },
  {
   "cell_type": "markdown",
   "metadata": {},
   "source": [
    "#### Let's visualize these items on the map around our location"
   ]
  },
  {
   "cell_type": "code",
   "execution_count": 47,
   "metadata": {},
   "outputs": [
    {
     "data": {
      "text/html": [
       "<div style=\"width:100%;\"><div style=\"position:relative;width:100%;height:0;padding-bottom:60%;\"><iframe src=\"data:text/html;charset=utf-8;base64,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\" style=\"position:absolute;width:100%;height:100%;left:0;top:0;border:none !important;\" allowfullscreen webkitallowfullscreen mozallowfullscreen></iframe></div></div>"
      ],
      "text/plain": [
       "<folium.folium.Map at 0x1579bfde160>"
      ]
     },
     "execution_count": 47,
     "metadata": {},
     "output_type": "execute_result"
    }
   ],
   "source": [
    "venues_map = folium.Map(location=[latitude, longitude], zoom_start=15) # generate map centred around Olive Garden\n",
    "\n",
    "\n",
    "# add Olive Garden as a red circle mark\n",
    "folium.features.CircleMarker(\n",
    "    [latitude, longitude],\n",
    "    radius=10,\n",
    "    popup='Ecco',\n",
    "    fill=True,\n",
    "    color='red',\n",
    "    fill_color='red',\n",
    "    fill_opacity=0.6\n",
    "    ).add_to(venues_map)\n",
    "\n",
    "\n",
    "# add popular spots to the map as blue circle markers\n",
    "for lat, lng, label in zip(dataframe_filtered.lat, dataframe_filtered.lng, dataframe_filtered.categories):\n",
    "    folium.features.CircleMarker(\n",
    "        [lat, lng],\n",
    "        radius=5,\n",
    "        popup=label,\n",
    "        fill=True,\n",
    "        color='blue',\n",
    "        fill_color='blue',\n",
    "        fill_opacity=0.6\n",
    "        ).add_to(venues_map)\n",
    "\n",
    "# display map\n",
    "venues_map"
   ]
  },
  {
   "cell_type": "markdown",
   "metadata": {},
   "source": [
    "## 5. Explore Trending Venues\n",
    "> `https://api.foursquare.com/v2/venues/`**trending**`?client_id=`**CLIENT_ID**`&client_secret=`**CLIENT_SECRET**`&ll=`**LATITUDE**`,`**LONGITUDE**`&v=`**VERSION**"
   ]
  },
  {
   "cell_type": "markdown",
   "metadata": {},
   "source": [
    "#### Now, instead of simply exploring the area around Olive Garden Restaurant, you are interested in knowing the venues that are trending at the time you are done with your lunch, meaning the places with the highest foot traffic. So let's do that and get the trending venues around Olive Garden Restaurant."
   ]
  },
  {
   "cell_type": "code",
   "execution_count": 48,
   "metadata": {},
   "outputs": [
    {
     "data": {
      "text/plain": [
       "{'meta': {'code': 200, 'requestId': '5d02a8176a6071550bb05248'},\n",
       " 'response': {'venues': []}}"
      ]
     },
     "execution_count": 48,
     "metadata": {},
     "output_type": "execute_result"
    }
   ],
   "source": [
    "# define URL\n",
    "url = 'https://api.foursquare.com/v2/venues/trending?client_id={}&client_secret={}&ll={},{}&v={}'.format(CLIENT_ID, CLIENT_SECRET, latitude, longitude, VERSION)\n",
    "\n",
    "# send GET request and get trending venues\n",
    "results = requests.get(url).json()\n",
    "results"
   ]
  },
  {
   "cell_type": "markdown",
   "metadata": {},
   "source": [
    "### Check if any venues are trending at this time"
   ]
  },
  {
   "cell_type": "code",
   "execution_count": 50,
   "metadata": {},
   "outputs": [],
   "source": [
    "if len(results['response']['venues']) == 0:\n",
    "    trending_venues_df = 'No trending venues are available at the moment!'\n",
    "    \n",
    "else:\n",
    "    trending_venues = results['response']['venues']\n",
    "    trending_venues_df = json_normalize(trending_venues)\n",
    "\n",
    "    # filter columns\n",
    "    columns_filtered = ['name', 'categories'] + ['location.distance', 'location.city', 'location.postalCode', 'location.state', 'location.country', 'location.lat', 'location.lng']\n",
    "    trending_venues_df = trending_venues_df.loc[:, columns_filtered]\n",
    "\n",
    "    # filter the category for each row\n",
    "    trending_venues_df['categories'] = trending_venues_df.apply(get_category_type, axis=1)"
   ]
  },
  {
   "cell_type": "code",
   "execution_count": 51,
   "metadata": {},
   "outputs": [
    {
     "data": {
      "text/plain": [
       "'No trending venues are available at the moment!'"
      ]
     },
     "execution_count": 51,
     "metadata": {},
     "output_type": "execute_result"
    }
   ],
   "source": [
    "# display trending venues\n",
    "trending_venues_df"
   ]
  },
  {
   "cell_type": "markdown",
   "metadata": {},
   "source": [
    "### Visualize trending venues"
   ]
  },
  {
   "cell_type": "code",
   "execution_count": 52,
   "metadata": {},
   "outputs": [],
   "source": [
    "if len(results['response']['venues']) == 0:\n",
    "    venues_map = 'Cannot generate visual as no trending venues are available at the moment!'\n",
    "\n",
    "else:\n",
    "    venues_map = folium.Map(location=[latitude, longitude], zoom_start=15) # generate map centred around Ecco\n",
    "\n",
    "\n",
    "    # add Ecco as a red circle mark\n",
    "    folium.features.CircleMarker(\n",
    "        [latitude, longitude],\n",
    "        radius=10,\n",
    "        popup='Ecco',\n",
    "        fill=True,\n",
    "        color='red',\n",
    "        fill_color='red',\n",
    "        fill_opacity=0.6\n",
    "    ).add_to(venues_map)\n",
    "\n",
    "\n",
    "    # add the trending venues as blue circle markers\n",
    "    for lat, lng, label in zip(trending_venues_df['location.lat'], trending_venues_df['location.lng'], trending_venues_df['name']):\n",
    "        folium.features.CircleMarker(\n",
    "            [lat, lng],\n",
    "            radius=5,\n",
    "            poup=label,\n",
    "            fill=True,\n",
    "            color='blue',\n",
    "            fill_color='blue',\n",
    "            fill_opacity=0.6\n",
    "        ).add_to(venues_map)"
   ]
  },
  {
   "cell_type": "code",
   "execution_count": 53,
   "metadata": {},
   "outputs": [
    {
     "data": {
      "text/plain": [
       "'Cannot generate visual as no trending venues are available at the moment!'"
      ]
     },
     "execution_count": 53,
     "metadata": {},
     "output_type": "execute_result"
    }
   ],
   "source": [
    "# display map\n",
    "venues_map"
   ]
  }
 ],
 "metadata": {
  "kernelspec": {
   "display_name": "Python 3",
   "language": "python",
   "name": "python3"
  },
  "language_info": {
   "codemirror_mode": {
    "name": "ipython",
    "version": 3
   },
   "file_extension": ".py",
   "mimetype": "text/x-python",
   "name": "python",
   "nbconvert_exporter": "python",
   "pygments_lexer": "ipython3",
   "version": "3.7.1"
  }
 },
 "nbformat": 4,
 "nbformat_minor": 2
}
